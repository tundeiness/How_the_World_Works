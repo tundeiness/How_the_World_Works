{
 "cells": [
  {
   "cell_type": "markdown",
   "metadata": {},
   "source": [
    "#### COMPANION WORKBOOK\n",
    "\n",
    "# Fake It Til You Make It (Simulations)\n",
    "\n",
    "To make the most out of this program, we strongly recommend you to:\n",
    "1. First practice writing and implementing all of the code from Coding Section of the online module.\n",
    "2. Then, freely experiment with and explore any interesting or confusing concepts. Simply insert new code cells and then use the help of Google and official documentation.\n",
    "3. Finally, tackle all of the exercises at the end. They will help you tie everything together and **learn in context.**\n",
    "\n",
    "#### <span style=\"color:#555\">MODULE CODE SANDBOX</span>\n",
    "\n",
    "Use this space to practice writing and implementing all of the code from Coding Section of the online module. Insert new code cells as needed, and feel free to write notes to yourself in Markdown."
   ]
  },
  {
   "cell_type": "markdown",
   "metadata": {},
   "source": [
    "## I. Simulation Methodology"
   ]
  },
  {
   "cell_type": "code",
   "execution_count": null,
   "metadata": {},
   "outputs": [],
   "source": []
  },
  {
   "cell_type": "code",
   "execution_count": null,
   "metadata": {},
   "outputs": [],
   "source": []
  },
  {
   "cell_type": "code",
   "execution_count": null,
   "metadata": {},
   "outputs": [],
   "source": []
  },
  {
   "cell_type": "markdown",
   "metadata": {},
   "source": [
    "## II. Mapping Function: Sine Wave"
   ]
  },
  {
   "cell_type": "code",
   "execution_count": null,
   "metadata": {},
   "outputs": [],
   "source": []
  },
  {
   "cell_type": "code",
   "execution_count": null,
   "metadata": {},
   "outputs": [],
   "source": []
  },
  {
   "cell_type": "code",
   "execution_count": null,
   "metadata": {},
   "outputs": [],
   "source": []
  },
  {
   "cell_type": "markdown",
   "metadata": {},
   "source": [
    "## III. Simulating Noise"
   ]
  },
  {
   "cell_type": "code",
   "execution_count": null,
   "metadata": {},
   "outputs": [],
   "source": []
  },
  {
   "cell_type": "code",
   "execution_count": null,
   "metadata": {},
   "outputs": [],
   "source": []
  },
  {
   "cell_type": "code",
   "execution_count": null,
   "metadata": {},
   "outputs": [],
   "source": []
  },
  {
   "cell_type": "markdown",
   "metadata": {},
   "source": [
    "## IV. Putting It All Together: Noisy Sine Wave"
   ]
  },
  {
   "cell_type": "code",
   "execution_count": null,
   "metadata": {},
   "outputs": [],
   "source": []
  },
  {
   "cell_type": "code",
   "execution_count": null,
   "metadata": {},
   "outputs": [],
   "source": []
  },
  {
   "cell_type": "code",
   "execution_count": null,
   "metadata": {},
   "outputs": [],
   "source": []
  },
  {
   "cell_type": "markdown",
   "metadata": {},
   "source": [
    "#### <span style=\"color:#555\">EXERCISES</span>\n",
    "\n",
    "Complete each of the following exercises."
   ]
  },
  {
   "cell_type": "markdown",
   "metadata": {},
   "source": [
    "#### First, remember to import the relevant libraries and set the theme (if you haven't done so already)."
   ]
  },
  {
   "cell_type": "code",
   "execution_count": null,
   "metadata": {},
   "outputs": [],
   "source": []
  },
  {
   "cell_type": "markdown",
   "metadata": {},
   "source": [
    "## <span style=\"color:RoyalBlue\">Exercise 1.1 - Coding Section Checkpoint</span>\n",
    "\n",
    "Before moving on, it's imperative that you've been following along the online Coding Section of this module. Those are core to each module and often contain **mission-critical code**, which means that the following modules REQUIRE you to have run that code.\n",
    "\n",
    "This one is a perfect example. In the online Coding Section (which you should have followed in the workbook space above), we created a dataset of simulated noisy sine wave data and saved it as <code>'simulated_data.csv'</code>. We'll be using that simulated dataset in the remaining modules for this project. So let's just fully double-check that we're on the same page and that you've created that dataset successfully.\n",
    "\n",
    "#### A.) Import <code>'simulated_data.csv'</code> that you created during the follow-along coding section and display the first 5 observations."
   ]
  },
  {
   "cell_type": "code",
   "execution_count": null,
   "metadata": {},
   "outputs": [],
   "source": []
  },
  {
   "cell_type": "markdown",
   "metadata": {},
   "source": [
    "<strong style=\"color:RoyalBlue\">Expected output:</strong>\n",
    "<table border=\"1\" class=\"dataframe\">\n",
    "  <thead>\n",
    "    <tr style=\"text-align: right;\">\n",
    "      <th></th>\n",
    "      <th>x</th>\n",
    "      <th>y</th>\n",
    "    </tr>\n",
    "  </thead>\n",
    "  <tbody>\n",
    "    <tr>\n",
    "      <th>0</th>\n",
    "      <td>0.000000</td>\n",
    "      <td>0.086260</td>\n",
    "    </tr>\n",
    "    <tr>\n",
    "      <th>1</th>\n",
    "      <td>0.063467</td>\n",
    "      <td>0.881165</td>\n",
    "    </tr>\n",
    "    <tr>\n",
    "      <th>2</th>\n",
    "      <td>0.126933</td>\n",
    "      <td>0.145261</td>\n",
    "    </tr>\n",
    "    <tr>\n",
    "      <th>3</th>\n",
    "      <td>0.190400</td>\n",
    "      <td>-0.252824</td>\n",
    "    </tr>\n",
    "    <tr>\n",
    "      <th>4</th>\n",
    "      <td>0.253866</td>\n",
    "      <td>-0.320448</td>\n",
    "    </tr>\n",
    "  </tbody>\n",
    "</table>"
   ]
  },
  {
   "cell_type": "markdown",
   "metadata": {},
   "source": [
    "#### B.) Replicate the plot from the online coding section that overlays the simulated dataset with the \"true underlying\" sine wave."
   ]
  },
  {
   "cell_type": "code",
   "execution_count": null,
   "metadata": {},
   "outputs": [],
   "source": [
    "# Scatterplot of x and y\n",
    "\n",
    "\n",
    "# Overlay the sine wave\n"
   ]
  },
  {
   "cell_type": "markdown",
   "metadata": {},
   "source": [
    "<strong style=\"color:RoyalBlue\">Expected output:</strong>\n",
    "\n",
    "<img src=\"data:image/png;base64,iVBORw0KGgoAAAANSUhEUgAAAXsAAAD7CAYAAACL+TRnAAAABHNCSVQICAgIfAhkiAAAAAlwSFlzAAALEgAACxIB0t1+/AAAADl0RVh0U29mdHdhcmUAbWF0cGxvdGxpYiB2ZXJzaW9uIDIuMi4zLCBodHRwOi8vbWF0cGxvdGxpYi5vcmcvIxREBQAAIABJREFUeJzt3Xd4FFX3wPHvppAQCAklJCBKU6+oGDsqvUaEUCJo6FIEREUFsVBEURClCSoqKDaQXgwIAiIKIqKvryL4gysoYAFCESLFhJT9/RHCuwm7ydbM7O75PA/PQ3ZnZs9sOXPnzJ17LVarFSGEEIEtxOgAhBBC+J4keyGECAKS7IUQIghIshdCiCAgyV4IIYKAJHshhAgCkuyFECIISLIXQoggIMleCCGCQJjRARTIy8uz5ua6fzdvaKgFT9Y3msRvPH/fB4nfWEbFHx4eegyIK2k50yT73FwrJ0+edXv92Ngoj9Y3msRvPH/fB4nfWEbFHxcXfcCZ5aSMI4QQQUCSvRBCBAFJ9kIIEQQk2QshRBCQZC+EEEFAkr0QQgQB03S9FIFpza50Zm7eT/qpLOKjIxjSuBZt68UbHZYQQcejZK+UagC8pLVuVuTxYUB/4Oj5hwZprbUnryX8z5pd6UxYt4fMnDwADp/KYsK6PQCS8IUoZW4ne6XUE0Av4Iydp28Eemutv3d3+8L/zdy8/0KiL5CZk8fMzfsl2QtRyjxp2f8KpAAf2nnuJuBppVQC8InW+kUPXsdvBXsJI/1UlkuPCyF8x+1kr7VeqpSq5eDpBcDrwD/AcqVUe631quK2FxpqITY2yt1wCA0N8Wh9b0vbfpAJ6/eQmW1Twli/h3JREXRIrH7R8maL31X24q8WE8nBjMyLlq0WE2nKfQ3Ez8CfSPy+5fULtEopC/CK1jrj/N+fADcAxSb7QBsbZ9JafSHRF8jMzmPSWk2TmrEXLW+2+F1lL/7BDWsWqtkDRIaFMLhhTVPuayB+Bv5E4ndPXFy0U8v5ojdOBWCnUqoe+fX8FsAcH7yOqZmphGFUOangNYK5lCWEWXgt2SulugPltdazlFIjgY1AFrBBa73aW6/jL+KjIzhsJ7HHR0eUahxG94hpWy9ekrsQJuBRstda7wduO///j2we/xD7F26DxpDGteyWMIY0rlWqcUiPGCEEyE1VPmOWEoaZyklCCONIsneBq7VvM5QwzFJOEkIYS5K9k4yufbuq4MBkL9EbUU4SQhhLBkJzUnG1b7MpODDZS/QJ0RGMbHOFKQ9QQgjfkZa9k/yp9m3vwAT5iX7lwAYGRCSEMJq07J3kqMZtxtq3Px2YhBClQ5K9k4Y0rkVkWOG3y6y1b386MAkhSockeye1rRfPyDZXkBAdgQVz17796cAkhCgdUrN3gRm6UjrD2T7+wT4qpxDBRJJ9gCrpwORvXUmFEJ6RZB+kHHUlfWa1Zubm/YVa+XIGIIR9tr+NajGRDG5Y07S/DUn2Qaq4njm2rXxAzgCEsKPo2fHBjExT/zYk2QcpR8MoFLC9YcyogdTkjEKYmb8NMii9cYKUvR47RaWfyjKsz77tXcBW/ndGsWZXuk9fVwhn+dv9LJLsg5RtV1JH4qMjDOuz70/DU4jg5G/3s0iyD2Jt68WzcmADxt2lHPbLN6rPvr+1mkTw8bf7WaRmL5zql1/atXMZmlmYXdHfjfTGEX6huH75RtxMZpaZvoQoju1vw+wTpkuyF6Zklpm+hAgUkuyFafnL8BRC+AOPLtAqpRoopb6w83iyUuo7pdRWpdT9nryGEEIIz7ndsldKPQH0As4UeTwcmAbccv65LUqplVrrw54EKrxDblQSIjh5Usb5FUgBPizyeD1gr9b6BIBS6iugMbDYg9cSLjp16h+03s3vvx/gyJF0jhw5ws4Dh/jvgb/Jzc0B4FiZKB5bXY7VibVpc/M1XHZZTWrVqk1MTKzB0QshvM3tZK+1XqqUqmXnqQpAhs3fp4CYkrYXGmohNjbK3XAIDQ3xaH2jeRJ/Tk4O27f/yObNm/nqq6/44Yf/8scffxRaJjw8HCLKk2cJxRISihWwnvuX01lnWPh1Lgttlq1Tpw433ngTt9xyC82btyAxMRGLxeKz+J2Rtv0gU9b/wqGMTKrFRDK89ZV0SKzu1dcI5u+QGUj8vuWLC7T/ANE2f0cDJ0taKTfX6lG3JbN3eyqJq/GfPXuWjRs3sGbNKtatW8PJk/lvca1atbnlltvo3bsfStWjdu06xMfHExMTS4Opm7EW2Y7VaoVzZ3mvQw0OHNjPr7/uYfv2H/n2229ZsiT/ZCwurirNm7ckObkTzZu3pEyZMh7H7wp7A06NWrGTM2ezvFqCCrbvkNlI/O6Ji4sueSF8k+x3AVcopSoBp4EmwGQfvE7QsVqtfP/9d3z00YcsX76UM2dOExsbS5s2bWnZsjW3396QhIRqDte3d6OSxWIhoUolrr22PtdeW7/Qc+nph9m4cQNffLGB9es/ZdGi+cTGxpKc3ImePftwww03+WQ/i/K3AaeEMCOvJXulVHegvNZ6llJqGLCW/N4+c7TWf3nrdYJRVlYWy5Yt5s03X2PXrv8jKqocHTt25u677+H22xvml2g4f/E1bZvDi6+u3qgUH59AamoPUlN7kJ2dzZdffs6yZUtYunQxH374HjfccCN9+95P585dAN+dvsrQCUJ4zmK1Fj2xN0Z2dq7V0zLO/K37/Lanib1TwDNnzjBnzmxmzZpJevphrrmmPv37D6RTpxTKly986la01AH5ibzoPLne6I1z6tQ/LFo0nzlzZrNnzy9Ur34JTzzxBJ07p1K2bFk39r54ybO22R06ISE6gpUDG3jtdaSMYCyJ3z1xcdHfAzeXtFzAJPtNB04yasXOEpOdWdl+UbKysvjggzlMmzaZY8eO0rRpcx588BGaNm3u8EJpaSVEW1arlY0bNzBt2iS2bdtK1arxDBv2BL163XfhbMMbnD2QeUqSjbEkfvc4m+wDZtTLKet/8fshca1WK2lpy7n99hsZNepJqtSow9UDp3PgtuFM+aUcn+4+4nBdI0odFouFFi1akZb2KevXf0bdupfz1FPDadr0Nj79dDXuNCTW7EonedY2bp2yieRZ21izK73QcMwW8g9g/nIQF8IsAma4hEMZmXYf95e67s6dOxk6dChffbWJq6++lhGTx/Hx31X5Nzc/YZY0HaCRo0RaLBaaNm3GihWrWbt2DePGjaF371SaNWvBxIlTqFOnrlPbKWkSdDMkd7kpTfirgGnZV4uJtPu42YfEzczMZMKEcdxyy03s3PkTEydO4bPPNrEpswZZuYVbxsWdqZhhbG2LxcKdd97Fl19+w/jxL/Gf/3xH06a3MXXqy2RllXzQNfuEJTJ7lvBnAZPsh7e+0vBk56rvvttGy5aNeOWVyXTv3oOtW3+gX7/7CQsLc7ksY6ZSR3h4OPff/wBff/0fkpLuYuLEF2jTpik7dvxU7Hpm73Vj9oOREMUJmGTfIbG6aZJdSbKzsxk//jnat2/Dv//+y4IFy3jnnTlUrlz5wjLuTHlWMPPUt8ObsHJgA8P3PSGhGm+//T5z5y7k+PHjJCU1Y+rUl8nJybG7vNmneTP7wUiI4gRMzR7MU9ctzm+/7WXw4P78+OMP9OzZh3HjJlzUjRL8Y/IO2/p1cbP0tGnTlk2bvmHkyBFMnPgCn322jrfemsOll15WaDmz77PMniX8WcC07P3BkiULadGiMQcO7GfOnLlMnfqq3UQP5irL2FO0fn0wI7PY+nWlSpV58805vPXWHHbv3kWLFo1YvXpVoWXMvs9muC4ihLsCpp+9Wfro2uut0aJOLGPGPMV7773DbbfdwVtvzaFatcKDeJklfmd50q9/377fGDiwL9u3/8CgQUN45pnnvdov313OfAZm7o3jb9+hoiR+9zjbzz6gyjhGs9d18LklW3l2/WT27f6JBx98hFGjxhIW5vrbbrYk40n9unbtOqxatY5x48bw1lsz2bHjJ2bPfp+4uDhvh+l1/lAqFMIeKeN4UdHeGll/7WL/nKEc2LeXd9+dx9ixz7ud6M3W5c/Ti6kRERGMH/8yr78+i//+9z+0bt2EH3/8rzdDFELYkGTvRbat2tM7NnB4/tOEhJcloedk2rVLdnu7Zuzy5636ddeuqaxatY7Q0FA6dLiTlStXeDFKIUQBKeN4UXx0BIf+yeTk5g/5Z+siImteR5WOT3FJ1YvLE0XLMiOSFE1qxtot15ixy19BKcOZ3jgFHJWi/gqvRlyPyRz54Bn69+9N14GP89rzY0qcMEUI4Ty5QOtFadt/57FHH+LUz19QPvFOKrUeTNmIMnZHnryoi2F4CO2ursonPx+5qOthRFgIGZkX90335SBnrirp/Xc0mFm7a/63z9accxxb/Qpnd22iyV1dmD/7rVK9cGuG75AnJH5jmf0CrZRxvCQj4yTvPvsAp37+ghqt+1E56UGqxZaz23XQblkmO4/lPx22W66xWq1+3+XPUSnKdp8tYWWokjyCmDtS2bR6CX36dOPMmTP2NieEcJGUcbwgPf0w996bwp49mpkzZ9Oly73FL++g/JLn4CTrVFYuz92lTNUbx1XO7rPFYiG2cU/Coivz+fo36NIlmblzFxe6u1gI4TpJ9h7av38fXbt25OjRo8ybt5hmzVqUuI6jOzFDLPYTfnx0hN93+XN1ny9v3IkHujVk0KC+dOiQxOLFH1O9+iWlEKkQgUnKOB7Ytev/SE5OIiPjJEuXpjmV6MFBT5bwEDpfl+D35RpHHPXeKW6f77qrPYsXf8zhw4dJTk5i377fSjNkIQKKJHs3/fTTj3TufBcAaWlruemmW5xe196wAOM7XstTra409XABnii6zxUiQokIC2HZ9sOUCbUQExlmd59vu+0Oli1byZkzp+nQ4U52795l6H4I4a+kN44bvv/+O1JT7yY6OpqlS1dSu3Ydj7dppp4I7tyt60r87kwzuHv3Lrp06UBOTjaLF6dRv/51zu+Qk8z0GbhD4jeW2XvjuF2zV0qFADOBRCALGKC13mvz/AygIXDq/EMdtdYZ7r6eWWzb9g3dut1N5cqVWbZs1UUjN/q7kmaL8obibhJz9BpXXVWPtLRPSUlpT5cuySxZkkb9+ommG0ZCCLPy5AJtJyBSa327Uuo2YArQ0eb5G4EkrfUxTwI0k23bviE1NYWEhASWLVt10WBmgcCdRFxUSQnY3ZvE6tSpy4oVq0lJac/ddyfz6MvvMv9AhE8PTEIECk9q9o2ATwG01t9gcxpxvtV/BTBLKbVFKdXPoyhN4LvvttGt290kJCSwYsXqgEz04PkEHc6M4+PJuDq1atVm+fJPiI6uwPNDe5Hx5y+Fnjd6GAkhzMqTln0FwLYsk6uUCtNa5wDlgFeBqUAosFEp9R+ttcN56UJDLcTGRrkdTGhoiEfrF+fbb7edb9HHs379Bi655BLSth9kyvpfOJSRSbWYSIa3vpIOie4fAHwZvyuqxURy0M7k7dViIouNryD+N7ccsHtm8OaWA3S7vTYAI5IUoz7eSWZ24TuIRyQpp96DTQdiqZI6gYNvPcaRhWOI7/4iZeJqXXg+/VSWW++lWT4Dd0n8xjJ7/J4k+38A25k3Qs4neoCzwHSt9VkApdTn5Nf2HSb73FyrRxc3fHVxZMeO7XTu3J7KlauwZMlKypWryPyt+wrVtQ9mZDJqxU7OnM1yu3xglotTgxvWtHvxdHDDmpw8edZhiaYg/kN2DhQAhzIyL+xfk5qxjGx9xUXbaVIz1qnx5Ces20NmSCzxqRNI/+gp0heMIqHbRMKrXArknyG4816a5TNwl8RvLNv4S/NaUlyc/QmQivIk2W8BkoFF52v2O2yeuxJYoJS6kfxSUSPgfQ9eyxBa76ZTSgeyLGXIuXMMg1b9yZDGYV6pa9tasyudN7cc4FBGpuEXGYsOcGYbT3EXbwta7c5O3efuTWK27314xWrEp44nff7TpC8YSXyPl4iOqxEQ9yUI/1UanRzc4UmyXw60Vkp9DViAvkqpYcBerXWaUmoe8A2QDXygtf7Z83BLz2+//Upyp/aczYH4HuMJjal64UMrmugLuDMKpTtfDF+3Ghwl4uIOcgXJ3tfzyBZ9j8Mr16Bq6njSP3qKY4vGMGL2Yrk4Kwzl7cagt7id7LXWecDgIg/vtnn+ZeBld7dvpIMH/6Jr146c/jeTqqkvEl7xf7X4zJw8h7f4W8mfrs+V5OvqF8PIVoMzF2+LOzPwBntnDmWqXMbV973IgblPM3PkANqsWHPRrFdm7qJp5tiE68w4JDnI2DgXOX78OPfc04kTJ04Q1/V5ysTVvGiZPGt+a9VeC9/V5OvqF8PIVoOvSzTOcHTmMCK1DRXb1uXeeztz772dWbHiEypUiAF8d4D0RpI26ym/cJ+zv5PSJsMl2Dh9+hTdu9/NgQP7mTt3IZddcY3d5Qpu6U9w8OG50v3P1W6IRrYavDU7lSfsDTVRcOftbbfdwbvvzkXrXfTqlcq///4LOD5APrNakzxrm1vTO3prqkgzzkImPGOG34k9kuzPy8rKok+fHvz003befvsD7rijUbEfWtt68awc2ABHcyk5m3xd/WJ4OverJ4pLtKWp4L3/dngTVg5sUOj1W7Rozauvvsk333zNoEH9yMnJKfazMDpJm/WUX7jPLL+ToqSMA+Tl5fHQQ4PYvPkLXn31TZKS2gLO1Z89PWUr2JazvXF8fQG0JP4w1HJKSldOnPibp58ewfDhQ6l6dW/ST59zuHzRi8zO8FaSNuspv/CMGX8nQZ/srVYro0Y9wccfL2Ps2Be4997uhZ4v6UPzRvJtWy+ebrfXdqqPcdEDUHREKBaLhbGrNTM375eLe+f17z+IY8eOMWXKS7TvUZ6MWh0c9qIC3yXpkur6Rh+8RfAIffbZZ42OAYC8POuzmZnZbq8fGRmOO+tPnz6FGTOmMnjwQzz55EiX178irjzVYiLYdfg0Z87lkhAdwbAWdV1OuK7Ef0VcebrfVIMaFSP5Yu9xzpzLBeD0uVy27jtBtZgIrogr7/K+eMLd99+XGjZsTHp6Okvmvk3bG+tyrmIdTp9/r4pKiI6gX8PaTu9Dxahwtu47QY5Nt6zIsBCGtah74b0vqOufPD9/sL3Px1vfHzDnZ+AKid895cpFHAJmlbRcULfsFyyYx4QJ40hJ6cqzz77g9naMOmUza39es7BYLLz00hSOHk1n3oznefvtDwhrfJtXWtLOlPic/XzMeMovAk/QJvuNGzcwbNjDNG7cjBkz3iAkxP+uVcvFvZKFhYXx5ptz6NKlA0OGDGDx4o8Z2ebioRrcSbYlJWn5fISZBGWy37FjO/369eLKK6/i3Xc/pEyZMkaH5Ba5uOecqKgo5s5dSPv2bejdO5VVq9azcmADn7+ufD7CTPyvOeuhP/74nW7duhAbG8uCBUsv3Hjjj8zan9eMKlWqzPz5SwkLC6d79y6kp7vet95V8vkIMwmqZJ+RcZLu3buQmZnJ/PlLSUioZnRIHjFrf16zqlmzFh99tJhjx47Ss+c9nD59utDzadsPkjxrG7dO2eT2zVa25PMRZhI0c9CeO3eO1NQUtm3bysKFy2nUqInbr+ULgTS8q9mtW7eG3r270bJla95/fz5hYWH5PWfW7yk8xn4J8+KajT99BvZI/O5xdg7aoGjZW61WHnvsIb76ahPTpr1mukQvvG/NrnSHrfQ2bdoyYcIk1q9fy+jRT2K1WvN7zmTLsAUicAXsBVrbm1myv13IXxsX8OSTo7jnnm5GhyZ8zJnBxfr1u5/ffz/AzJkzqFWrNulnrrO7Lek5IwJFQLbsbQepOrVzA39t/JAK17WiXts+RocmSoGz49Y888w42rfvyNixowj//Vu725KeMyJQBGSyL/ixZ/6+g+NrXiWy5nXEtnmQN746YHRoohQ42789JCSE11+fxY033syBZS9jPbq30PPSc0YEEr8v49gbeyT9VBbZx//k6PLxhFesRlynkVhCw+WUPEi40r+9bNmyfPDBAtq2bcE/K8ZTq+80TobF+mQSEZmkRBjJr1v2jsYUj8o7w5Elz0FIKHFdxhISmT8OiZySBwdX+7fHxcUxb95irLnnyPxkPJ/dn3jR0Mme8tb490K4y6+Tvb3a7L+ZWexfMI7cU8eomjKa8NgEQE7Jg4k7/duVuoqFCxexd+8eBgzoQ05OjldjkklKhNH8uoxTtCxjtVo5vmY6Z//4mSFjp/N9+NVyyhyk3BlcrEWLlrz88jSGDXuYp58ewcsvT8VisXil/CLj5Aij+XWyL1qbzfh6AWf+7wtqtLqPZx/s6/Z2pbYavHr27MNvv/3Ka6+9Qt26danZtKtX5oiVcXKE0dxO9kqpEGAmkAhkAQO01nttnr8fGATkAC9orVd5GOtFbCd+OPN/X5Dx1TwqXNeKF0Y7Ny69vaQOyATQQW706GfZt+83xo4dxRXds8mqcVOh590ZRlomKRFG86Rm3wmI1FrfDjwFTCl4QimVAAwFGgJJwItKKa83YQpqs+VO7OXY6leIrnUd06ZO566rE0pc19EFsymf/yq11SBX0CXz+utvYM+iCZxL//WiZVwtv8g4OcJonpRxGgGfAmitv1FK2Y7NcCuwRWudBWQppfYC1wHfefB6drW6vBLDl73A5bVrs2rVx1SqVNmp9RxdMHM0dZ03aqtSHvIfUVFRfPDBQm5qdAdHlowjofcUwqKrXHjenfKLTFIiipoxYxpnzpzi6aef8flreZLsKwAZNn/nKqXCtNY5dp47BRQ7lnBoqIXY2CiXg8jOzmbIkAfp2bMntWpd6vR6ribvajGRbsVXIG37wUIDbR0+lcWE9XsoFxVBh8TqhIaGeLR9o/l7/HDxPsTG1mbCG3MZcV8nji59nvjuEwkpU5bI8BBGJCnT7a+/fwbBFv/s2bN44YWxPPHEk6Wy354k+3+AaJu/Q84nenvPRQMni9tYbq7V7RHjHnpouMsjzjm6YFYhIpRzudaLaquDG9b0aES7SWv1xQNtZecxaa2mSc1YGfHPBOztQ+9Wt3Pw+RlMfWoQx1ZOpn7v53iwaV2a1Iw13f76+2dg5vidOSt3Jf4vvvicoUMfplWrNjz66JMe7XdcXHTJC+FZzX4LcBeAUuo2YIfNc98CjZVSkUqpGKAesNOD1/I6RzfePN7ycp/UVqXrnX+xHTVzS3Yteg4dzb97t3HToU+kFBNkvH1DnNa76d+/N1deeRWzZr1LWFjpdIr05FWWA62VUl8DFqCvUmoYsFdrnaaUmgFsJv+AMkprnel5uN5T0oTR3v5BS9c7/2Fv1MyT5W+jdUov3njjVerUqUufPv0MjlKUFmcnjnfGkSNH6NGjK5GRkcybt4jy5Z1rlXuD28lea50HDC7y8G6b52cDs93dfmkozQtmgd71Lm37QSat1QFx8dnRjzsjsQet/knnqaeGc9llNWnevKXPY5GL+sbz9Ky84DM89Pc//L14NOeOpLMybQ01ajh/jdEb/PqmKn9S0pmEPys6y5O/35vg6Ed85GwOC2a9S/v2SQwY0IdVq9ZRr97VPovDmXH5hXfZO7h6clZe8Bn+m53DsdWvcPaP3VS/eySHI2v4Ivxi+fXYOP6mbb14Vg5swLfDm3h9oC0jBdosT45+xPHREZQvH828eYuIioqiZ897fDpxuYynU7oc1eYb1qno9sTxBZ/hyc1zObt7M7HN7iP88tsN+Qwl2QuPBdrF55JGzbzkkhrMnbuQ48eP0bv3vZw965seJN4oH3hzAvVA5+jguuW3E2532kg/lcXpn9bxz9ZFlE9MosKtKRceL21SxhEeC7SLz86U3BITb+CNN97hvvu68+CDA3nnnQ8ICfFu28kb5QMpATmvuIOru9f3Io/8zP61rxNZ6wYqtX4Ai8UCGPPbkJa98NiQxrWIDHfvNNesnCm5tW3bjnHjJvDJJ2k899wYr8fg6rj8tqQE5Lriynfu0Ho3vy9+gTKVaxDX6Sksoflta6N+G5Lshcfa1otnfMdrg3Lcl4EDhzBgwCDeeONV5szxbuczT8bTCbTSWmnw5OBaVHp6Ot27d6F8VBQTX/+A6lUqGf7bCIoyjnRf870OidVpUjPW6DBKncVi4fnnJ/LHH78zcuQILr30UnJq3FDi983Z76S75YNAK62VBm/1mDt9+jQ9e97D8ePHWLFiNddffwM9m/kgYBcFfLKX2qXwtdDQUN58cw6dOt1FvwH3kdDtRYirC9j/vpXGdzLQ7+vwFU/vvcnJyWHw4H7s2LGdDz6Yz/XX3+hw2dJuhAZ8GUdql6I0lCtXjrlzF0FEBf5YOJbsk4cvPFf0+1Ya30kZUrn0Wa1WRo16gnXrPuXFFyfTpk1bh8saMSdxwLfsna1dSqlHeCo+Pp7KXcZyeO4Ijix+loSekwgtm387vO33zd16uqvfURlSuXRNmvQy7777Ng8++Ah9+w4odllvDsHgrIBv2TuqUVrhQt9jI46yIjBdWuty4lJGk5ORztFlz5OXnZ/Abb+H7vT6kO+ouS1aNJ/Ro0dR+brmrCrXssT7Goy4gB7wyd7eFfYCMjuV8LYhjWsRW/s6qrQfTtafuzi2ajIRIdZCtXJ3en1IOdK8vvxyI4888iBRNa+jXOuhYAkp8WDs7W6ezgj4ZG9bu7QnMyePjMwcu89JNzXhqoLvW91bWlKp5QD+/WUrl+5awJ1XVb1oGVfq6dKV0px27NhO3749KVOlBpU7jcQSFn7hueIOxt7s5umsgK/Zw/9ql7dO2YTVhfWkm5pwx4Va+cAGPPdcFK+/Pp3pV9fl0Ucfv3gZJ0lXSvMouHby5x8HODJvBNFR5YlKeZaQyPIXLevoYGzEwIhBkewLuDo7lXRT8y9mvMg+ZsxzpKcfZsKEcVSpEkfPnn3c2o50pTSHgmsnZzKOk75wDHk5OVToPJYKVRPsVgiKOxiX9gX0oEr2jn4wj7e8HAjM4YeDhVnvpwgJCeGVV17n77+P8/jjj1CxYiXatUt2eTuBPES2P5m5eT9nz5zmyJLnyD39N/Gp47HG1sBqtRIZHlJo9FezHYyDKtmX9uxUovQY0ZXNWWXKlOGddz51TXlcAAAWIElEQVSkS5cODB7cjwULltGwYWOXtxPsXSnNcOZ26MQpjix7nnNH9lE1ZTQRl1wFwKmsXCZ3uc7UE/gEVbIH+cEEKrNfwCxXrhwffbSYDh3upFevVJYvX0Vi4g1Gh2Woosl7RJJyOOSGGc7ccnJy+OeTSWT9vpMqycMpW/eWC8/FR0eYfsiQgO+NI4KDEV3ZXFWxYiUWLlxOpUqVuPfezmi9u+SVApS9+wZGfbzTYVdFo7ue5uXl8eijD3Jy91aqJg2m3NXNLjxntnKNI5LsRUAwoiubO6pXv4TFiz8mPLwMXbt2ZP/+fUaHZAi7yTvbcfI28szNarXy9NOPs2jRfJ58chSTRg7zy2Eo3CrjKKXKAnOBqsApoI/W+miRZdKAykA28K/W2vFAEUJ4yJ8uYNauXYfFiz+mY8c76dKlI2lpa6he/RKjwypVriZvo7qeWq1Wxo175sIwCMOGPYHFYjHl96ok7rbsHwB2aK0bAx8Ao+0scznQSGvdTBK9KA3+NMfvVVfVY+HC5Zw48TcpKe1JTz9c8koBxJlhTGwZdeY2efJEXn99Ov363c8zz4y7MNOUP3I32TcCPj3//zVAK9snlVLxQCywUin1lVKqvfshChGYrr/+RubPX8rhw4e5++5kjh49WvJKAcKZYUxsE74Ro3hOnz6FSZNeJDW1BxMmTPLrRA9gsVqLv6dUKdUfeKzIw+nAQ1rrXUqpEOB3rXUNm3UuBe4BpgOVgC1AQ631EUevk5eXZ83NdeX+1sJCQ0PIzc0reUGTkviNkbb9IFPW/8KhjEyqxUYyvNWVdEisXqoxbN68ifbt21G37uWsW7eeKlWquLUdIz+DQu9jTCTDW5f8PhasczAj0+7z1WMi+fLxZj6ItmSTJr3MqFEjSU3txrvvvkdoaGiJ6xj1/oeHh34P3FzSciUme3uUUsuAiVrrb5VSMcAWrfW1Ns+HA2W01mfO/70IeFVrvdnRNrOzc60nT551OZYCsbFReLK+0ST+0le0Ox/klwaMuOD25Zcb6dXrXmrXrsvSpSvdSvhGfQaevo+OhjGxAN8Ob+K9QJ302mvTGTduDCkpXXjttVmEhTl3adOo9z8uLtqpZO9uGWcLcNf5/7cFiibxVsAiAKVUeeBaYJebryWETxjdnc9W06bNmTt3Efv3/0ZKSjuOHHF4Emw6nr6PZuo2O2PGNMaNG0OnTikuJXp/4G6yfwO4Rin1FTAQeA5AKfWyUupWrfUaYI9S6htgHTBSa33MKxEL4SVmuxGrSZNmzJu3mN9/P0BKSjunL9qu2ZVO8qxtXDnm0xLHUfcFT99HM3SbtVqtTJr0Ii+8MJaUlC7MnPl2QCV6cLPrpdb6LNDVzuNP2Pz/UQ/iEsLnzDiSZKNGTfjooyV0796V5OQkli5dyaWXXuZweTPcWerp+1gQ55tbDnAoI7PUu81arVbGj3+OGTOmkprag2nTXnOqRu9v5KYqEbTM0KK05447GrFkycecOHGC5OQkfv11j8Nl3SmhFJwJ3Dplk1fOBLzxPratF8+Xjzcr9W6zeXl5PP3048yYMZXevfvxyiuvB2SihyAcG0eIAkVvxKoWE8nghjUN7Z9vO17MpT0ncmDeSJKT72ThwuXUr3/dRcu7Osdy0Ra4q2cCxQ1G5g83tNnKzs7m4YcHsWzZEoYMGcrYsc/7fffK4rjVG8cXpDeOxG80o/fBXq+WkIyDZCwby7mzp3n//Y9o3LhpoXWSZ22zW0JJiI5g5cAGDrdrT0IJSdrXvZdK8/0/e/YsAwb05rPP1jF69HMMHVq0d7nrArU3jhDCy+yVZPJiqnNZnynUqFGD1NQUVqxYWuh5Z0oo9rZrT0nzppqp95Injh49SkpKOzZsWM/kydO9kuj9gZRxhDAJRyWZkyEVWJf2Kb16pTJoUD8OHjzIAw88VGiMluJKKK70LipuDgCz9V4qib2S05Vl/iE19W6OHEnnvfc+om3bdkaHWWok2QthEsX1aomNrciiRSt46KFBPPvsKH79dS8TJ04mPDz8whwNjsoIjrbriNkGI3OHvV5Ko99ZwYmPJxAZHsqyZau46aZbSthKYJEyjhAmUVJJpmzZssye/R6PPDKcDz98l27dupCRcdKt7RbHUfI2a+8le4qWnE5tX8cfc58mJ7wcn3zyWdAlepCWvRCm4UxJJiQkhFGjxlK37uUMHz6UNm2a8f7787nqqnoubxdwaRJzf+p1U3B2Ys3L5cTn73Dq+zQia91AXMcnqV27jsHRGUOSvRAm4uy0mampPahduy79+/fizjtb8Oqrb9KrVze3tutK8vaXaT3joyP46/Bhjq2cROaBn4i+uSMVm/ejWkyU0aEZRpK9EH6qQYPb+OyzTfTt25P+/Xvx888/MHz4KMLDw53ehr8kb1e1ij3OSxMfJTfzFJXvepTy9VuZtuRUWqRmL4QfS0ioxooVq7nvvv5MnTqVDh2S+P33A0aHZZi8vDxee206Lz3ak0ox5bhm0Ayi67fyq+kDfUVa9kL4uYiICF5+eRpt2rRm0KCBtGjRiClTptOxY4rRoZWqQ4cO8tBDg9m8+QvatevAK6+8RkxMrNFhmYa07IUIEF26dGHDhs1cfvnl3H//fQwa1JcTJ/42OqxSkZa2nGbNbuf7779l2rTXmDPnQ0n0RUiyFyKA1KpVm1Wr1vPUU6NZufJjGjduwKefrjY0Jm8PvGYrPf0wffv2ZMCAPtSsWYsNGzbTo0fvgB7jxl2S7IUIMGFhYQwb9gRr126kcuXK9O6dyn339eCvv/4s9VgKbm46fCoLKyUPyeCsvLw85s59n0aNbuWzz9YyZsw4Vq/eQN26V7gcn68ORGYjyV6IAFW/fiLr129i9Ojn2LjxMxo1upXXXptOVlbpDW/gi/F0vv/+O+68sznDhj3MVVfVY+PGr3n44UddnmzEVwcis5ILtEIEsDJlyjB06GN07NiZUaOeYNy4Mbz33tuMHv0sHTum+Lzc4el4Orbj28Rk/025ncv4et0K4uMTeP31WXTpcq9T+2BvnJziDkSB2GtHWvZCBIGaNWsxd+4iFi/+mPLloxk4sC9t2jRjzZpP8OUw557ML1vQ8v7z4EGOrXuD7a/0Y+vnq2nXfSBbt35P166pTid6ey14R+MFmXVgN09JshciiDRt2pwNGzYzY8YbnDx5gj59utG8eUOWL1/CuXPnXNqWM/VuT8bTmbz0S/5Mm8Zfb/Xn9PZPKZ/YhuoDZ3Ps6q6ULx/tdJyOWvAhDo4TZhzYzRukjCNEkAkNDSU1tQddutzLsmWLeeWVyQwa1I+qVePp3bsvvXrdR7Vq1YvdhrNz37o6ns65c+dYu3YN8+a9z47PP8MSFkF0YhLRt3QmPDYBcL3l7Wj5PGv+gcfZsYG8obiZvnxNZqoyCYnfeJ7sg5E/4gLuxp+Xl8fnn69nzpzZbNiwHsif+Lxz5y60a5dMxYqVLlrHmRmynJWTk8N3321j/frVzJ//EcePH6d69UsIqdcKrkkitGwFj16juFgLavfe+NxKev99NdOXszNVedSyV0p1Brpqrbvbee5+YBCQA7ygtV7lyWsJYVbOtnLNKiQkhFatkmjVKol9+35j8eIFLF++hGHDHmbEiEe58cabad68JU2aNKd+/esoW7asRxderVYr+/fv45tvvmbLls1s2LCO48ePExERQZs2benRoxdNm7Zg3S/HXBqV05EhjWs53E5pjg1k9AVht1v2SqnpQBLwo9Y6tchzCcB68o82kcBXwM1aa4ffBGnZS/xGc3cfvNnK9YQ3PwOr1cpPP/3ImjWfsHHjZ/z44w9YrVZCQ0O56qqrSS9TjZzy8YTFxhNaoSohEeUIiYgioVIMc3veQE5ONllZWRw7dpSjR49y+PAh9uzR7N69m127fubo0SMAVKpUiebNW3HXXe3p3LkDOTmF6/veOmMqjTOvkt7/W6dswl62tQDfDm/i9uuWRsv+a2AF+a33om4FtpxP7llKqb3AdcB3HryeEKbkb9P1OcNisZCYeAOJiTfw1FOj+fvv43zzzVa2b/8vP/74A39u/4GMv49etN5fQL3x9rcZFRVF/KV1sdZIpNINV3DJVTcyrHNj2l1TDYDy5S9Olt5qedtupyDxj12tS7XkZvRMXyUme6VUf6DojLx9tdYLlVLNHKxWAciw+fsUEFPc64SGWoiNdX+s6dDQEI/WN5rEbzx396FaTCQHMzLtPl6a74kvP4PY2Cjq1LmU7t3vufDY4m2/8fLSzRz+608qhGbTsm40l1cMIzQ0lPDwcMqUKUOVKlVISEggPj6B749ZGLPy/yiXnV/K+AeYuOFXosuXpUNi9VL5DqVtP8iE9XvIzLYpua3fQ7moCDokFn9RuiQlxT8iSTHq450XXhsgMjyEEUmqVL4nJSZ7rfU7wDsubvcfwLZvVDRQ7PxpublWj05B/b2MIPEbz919GNywpt2a8OCGNUv1PSntz6C1SqD1yK5OLz9l/rZCiQ4gMzuPSWs1TWrGXojflyWXSWt1sTF4oqT3v0nNWEa2vuKifWtSM9ajzy0uzrluqL7qevktMF4pFQlEAPWAnT56LSEM5U/T9bnDW8nXmXKXry92G11yM3KyGK8me6XUMGCv1jpNKTUD2Ez+jVujtNYXn+cKESACdcYnbyZfZ2rWvu6x4krd3Azdab3Jo2Svtf4C+MLm76k2/58NzPZk+0KI0uPr8WOK6wJZwNctb2diAP/vTmuP3EErhB+yl5i73V7bo+3ZS25FE30Bd5KvM+UuX/dYcbbkZnSfeF+QZC+En3GUmMtFRbh9kbG48WPy7HQOdzf5llTucrbl7QlnSm5G1/Z9QQZCE8LPOErMU9b/4vY2Sxo/xpYvx49pWy+ekW2uICE6AgsYNlG4J6N1mpW07IXwM44S8yE7ff2d5ah84u3xY5zhTMvb1xdPS+MMo7RJshfCzzhKzNViIt3eplnGj3FGaVw8DcTutJLshfAzjhLz8NZXur1Nf0pujspYz6zWzNy832txm+0g5ylJ9kL4GUeJuUNidY/uxPSX5FbcRdJA6CLpK5LshfBD/pKYfcFRGauAv3eR9BXpjSOE8Cv2pjosyp+7SPqKtOyFEH7FtozlqIXvz10kfUVa9kIIv9O2XjwrBzZg3F3Kbiv/8Kksh5OgBytp2Qsh/FZxrXy5WFuYtOyFEH6toJWfYKd0U3CxVkiyF0IEiEAcz8abJNkLIQJCII5n402S7IUQAcFel0x/H8/Gm+QCrRAiIPjTkA9GkGQvhAgYwXxncUmkjCOEEEFAkr0QQgQBj8o4SqnOQFetdXc7z80AGgKnzj/UUWud4cnrCSGEcI/byV4pNR1IAn50sMiNQJLW+pi7ryGEEMI7PCnjfA08YO8JpVQIcAUwSym1RSnVz4PXEUII4aESW/ZKqf7AY0Ue7qu1XqiUauZgtXLAq8BUIBTYqJT6j9b6J0evExpqITY2yrmo7a4f4tH6RpP4jefv+yDxG8vs8ZeY7LXW7wDvuLjds8B0rfVZAKXU50Ai4DDZ5+ZaPZplJzY2yqP1jSbxG8/f90HiN5ZR8cfFRTu1nK/62V8JLFBK3Uh+qagR8L6PXksIYTJrdqXLzU0m49Vkr5QaBuzVWqcppeYB3wDZwAda65+9+VpCCHNasyu90IToMtSwOVisVqvRMQCQnZ1rlTKOxG8kf98Hb8bvScs8edY2uzNIJURHsHJgA4fryfvvnri46O+Bm0taToZLEEIU4mnLXIYaNie5g1YIUcjMzfsvJPoCrkwCIkMNm5MkeyFEIZ62zGWoYXOSMo4QopD46Ai7NXdnW+Yy1LA5SbIXQhQypHGtQjV7cL1lLkMNm48keyFEIdIyD0yS7IUQF5GWeeCRC7RCCBEEJNkLIUQQkGQvhBBBQJK9EEIEAUn2QggRBCTZCyFEEJBkL4QQQUCSvRBCBAFJ9kIIEQQk2QshRBCQ4RKECCAy96twRJK9EAEibftBmftVOCRlHCECxJT1v3g0w5QIbG617JVSMcBcoAJQBhimtd5aZJn7gUFADvCC1nqVh7EKIYpxKCPT7uMy96sA91v2w4ANWuumwH3A67ZPKqUSgKFAQyAJeFEpJRNQCuFD1WIi7T4uc78KcD/ZTwPeOv//MKBok+JWYIvWOktrnQHsBa5z87WEEE4Y3vpKmftVOFRiGUcp1R94rMjDfbXW351vwc8FHi3yfAUgw+bvU0CMJ4EKIYrXIbE6Z85mSW8cYVeJyV5r/Q7wTtHHlVL1gQXA41rrL4s8/Q8QbfN3NHCyuNcJDbUQGxtVYsCO1w/xaH2jSfzG8/d9CA0Nodvttel2e22jQ3FLILz/Zo7f3Qu0VwOLgXu11tvtLPItMF4pFQlEAPWAncVtMzfXysmTZ90JB4DY2CiP1jeaxG88f98Hid9YRsUfFxdd8kK438/+RSASmK6UAsjQWndUSg0D9mqt05RSM4DN5F8XGKW1tt9VQAghhM+5ley11h0dPD7V5v+zgdluxiWEEMKL5KYqIYQIApLshRAiCEiyF0KIIGCxWq1Gx1DgKHDA6CCEEMLP1ATiSlrITMleCCGEj0gZRwghgoAkeyGECAKS7IUQIghIshdCiCAgyV4IIYKAX89Bq5QKAWYCiUAWMEBrvdfYqFynlGoAvKS1bmZ0LK5SSoUDc4Ba5A9694LWOs3QoFyglAolf1gPBeSSP3z3r8ZG5TqlVFXge6C11nq30fG4Sin1A/8bFn2f1rqvkfG4Sin1NNCB/Jn7Zp4fLdhU/L1l3wmI1FrfDjwFTDE4HpcppZ4A3iZ/YDl/1BM4rrVuDLQFXjM4HlclA2itGwLPAFOLX9x8zh9w3wL+NToWd5wfHRetdbPz//wt0TcD7iB/Zr6mwKWGBuSAvyf7RsCnAFrrb4CbjQ3HLb8CKUYH4YHFwBibv3OMCsQdWusVwMDzf9YE0g0Mx12TgTeBg0YH4qZEIEoptU4p9blS6jajA3JRErADWA6sBEw537a/J/uiM2LlKqX8qjSltV4KZBsdh7u01qe11qeUUtHAEmC00TG5Smudo5R6H3iV/H3wG0qp+4CjWuu1RsfigbPkH7CSgMHAPD/7HVchv6HZlf/FbzE2pIv5e7IvOiNWiNbar1qWgUApdSmwEfhQa/2R0fG4Q2vdB7gSmK2UKmd0PC7oB7RWSn0BXA98cH66UH/yCzBXa23VWv8CHAeqGRyTK44Da7XW57TWmvw5uUscvqC0+dPR054t5NdcF50/9dthcDxBRykVD6wDHtJabzA6HlcppXoBNbTWL5Lfwswj/0KtX9BaNyn4//mEP1hrfdi4iNzSD6gPDFFKVSf/jP2QsSG55CvgEaXUVPIPUuXIPwCYir8n++Xkt2q+BiyAX13YCRAjgYrAGKVUQe2+rdbaXy4WLgPeVUptAsKBR2VWtVL3DvCeUuorwAr086czdK31KqVUE/KnYw0BHtRam67BIAOhCSFEEPD3mr0QQggnSLIXQoggIMleCCGCgCR7IYQIApLshRAiCEiyF0KIICDJXgghgoAkeyGECAL/D+d8l3lfvwO8AAAAAElFTkSuQmCC&#10;\">"
   ]
  },
  {
   "cell_type": "markdown",
   "metadata": {},
   "source": [
    "## <span style=\"color:RoyalBlue\">Exercise 1.2 - Noisy Tangent</span>\n",
    "\n",
    "#### \"Repetition is the mother of learning, the father of action, which makes it the architect of accomplishment.\" - Zig Ziglar\n",
    "\n",
    "Next, we're going to take a \"tangent\" and repeat our simulation from the Coding Section with a noisy tangent mapping function...\n",
    "\n",
    "(ok, sorry for the pun)\n",
    "\n",
    "#### A.) Generate an <code>x</code> and <code>y</code> that has the following noisy mapping function.\n",
    "\n",
    "> $y = tan(x) + \\epsilon$\n",
    "\n",
    "It should mirror the methodology from the Coding Section. Set the random seed to 321."
   ]
  },
  {
   "cell_type": "code",
   "execution_count": null,
   "metadata": {},
   "outputs": [],
   "source": [
    "# input feature\n",
    "\n",
    "\n",
    "# noise\n",
    "\n",
    "\n",
    "# target variable\n"
   ]
  },
  {
   "cell_type": "markdown",
   "metadata": {},
   "source": [
    "#### B.) Print the first 5 values of <code>y</code> just to check that we're on the same page. If your output is different, please check your random seed and/or the Answer Key for this module."
   ]
  },
  {
   "cell_type": "code",
   "execution_count": null,
   "metadata": {},
   "outputs": [],
   "source": []
  },
  {
   "cell_type": "markdown",
   "metadata": {},
   "source": [
    "<strong style=\"color:RoyalBlue\">Expected output:</strong>\n",
    "\n",
    "<pre>\n",
    "[ 0.08625973  0.88129314  0.14628738 -0.24934064 -0.31213198]\n",
    "</pre>"
   ]
  },
  {
   "cell_type": "markdown",
   "metadata": {},
   "source": [
    "#### C.) Plot a scatterplot of $x$ versus $y$, along with an overlay of the tangent function.\n",
    "* Tip: For a more useful plot, set the y-axis limits to be between -5 and 5. You can use the <code>plt.ylim(-5, 5)</code> command directly after the <code>plt.plot()</code> command."
   ]
  },
  {
   "cell_type": "code",
   "execution_count": null,
   "metadata": {},
   "outputs": [],
   "source": [
    "# Scatterplot of x and y\n",
    "\n",
    "\n",
    "# Overlay the tangent function\n"
   ]
  },
  {
   "cell_type": "markdown",
   "metadata": {},
   "source": [
    "<strong style=\"color:RoyalBlue\">Expected output:</strong>\n",
    "\n",
    "<img src=\"data:image/png;base64,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&#10;\">"
   ]
  },
  {
   "cell_type": "markdown",
   "metadata": {},
   "source": [
    "#### D.) Finally, store your generated dataset in DataFrame called <code>tangent_df</code> and save it to a CSV named <code>simulated_tangent_data.csv</code>. Display the first 5 rows as a sanity check.\n",
    "* Tip: Remember to set <code>index=False</code> when you save the CSV."
   ]
  },
  {
   "cell_type": "code",
   "execution_count": null,
   "metadata": {},
   "outputs": [],
   "source": [
    "# Create DataFrame with x and y\n",
    "\n",
    "\n",
    "# Save to CSV\n",
    "\n",
    "\n",
    "# Sanity check: first 5 rows\n"
   ]
  },
  {
   "cell_type": "markdown",
   "metadata": {},
   "source": [
    "<strong style=\"color:RoyalBlue\">Expected output:</strong>\n",
    "<table border=\"1\" class=\"dataframe\">\n",
    "  <thead>\n",
    "    <tr style=\"text-align: right;\">\n",
    "      <th></th>\n",
    "      <th>x</th>\n",
    "      <th>y</th>\n",
    "    </tr>\n",
    "  </thead>\n",
    "  <tbody>\n",
    "    <tr>\n",
    "      <th>0</th>\n",
    "      <td>0.000000</td>\n",
    "      <td>0.086260</td>\n",
    "    </tr>\n",
    "    <tr>\n",
    "      <th>1</th>\n",
    "      <td>0.063467</td>\n",
    "      <td>0.881293</td>\n",
    "    </tr>\n",
    "    <tr>\n",
    "      <th>2</th>\n",
    "      <td>0.126933</td>\n",
    "      <td>0.146287</td>\n",
    "    </tr>\n",
    "    <tr>\n",
    "      <th>3</th>\n",
    "      <td>0.190400</td>\n",
    "      <td>-0.249341</td>\n",
    "    </tr>\n",
    "    <tr>\n",
    "      <th>4</th>\n",
    "      <td>0.253866</td>\n",
    "      <td>-0.312132</td>\n",
    "    </tr>\n",
    "  </tbody>\n",
    "</table>"
   ]
  },
  {
   "cell_type": "markdown",
   "metadata": {},
   "source": [
    "## <span style=\"color:RoyalBlue\">Exercise 1.3 - Normal, Normal-er, Normal-est</span>\n",
    "\n",
    "A lot of people talk about \"big data,\" but have you ever wondered exactly why \"big\" data is useful? What exactly makes having a large amount of data more useful? Well, one of the main reasons \"big\" data is useful because in many cases it makes it much easier to tease out the \"true underlying relationship.\"\n",
    "\n",
    "It's related to concept from probability theory called the **law of large numbers**, which states that ***the average of the results obtained from a large number of trials should be close to the expected value, and will tend to become closer as more trials are performed.***\n",
    "\n",
    "For example, while a casino may lose money on a single roulette wheel spin, its earnings will approach a predictable \"expected value\" over a large number of spins (i.e. \"trials\"). In the end, the house always comes out on top. Another great example is how insurance companies stay so profitable. Yes, they might give big payouts to one-off claims or during freak disasters. However, over a large number of customers (i.e. \"trials\"), they are still earning more from the premiums paid on average.\n",
    "\n",
    "Thus, this \"expected value\" (or, in the context of machine learning: the \"true underlying relationship\") becomes more apparent as you collect more data (i.e. \"trials\"). Let's see this in action! We will use the <code>np.random.normal()</code> function to illustrate this.\n",
    "\n",
    "#### A.) First, plot a histogram of only 10 randomly generated samples from a normal distribution centered at 0 with a standard deviation of 1.\n",
    "* Tip: We used the random seed value of 321 and <code>bins=20</code>.\n",
    "* Does the plot look anything like a normal bell curve?"
   ]
  },
  {
   "cell_type": "code",
   "execution_count": null,
   "metadata": {},
   "outputs": [],
   "source": []
  },
  {
   "cell_type": "markdown",
   "metadata": {},
   "source": [
    "<strong style=\"color:RoyalBlue\">Expected output:</strong>\n",
    "<img src=\"data:image/png;base64,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&#10;\">"
   ]
  },
  {
   "cell_type": "markdown",
   "metadata": {},
   "source": [
    "#### B.) Next, plot a histogram of 100 randomly generated samples from a normal distribution centered at 0 with a standard deviation of 1.\n",
    "* Tip: We used the random seed value of 321 and <code>bins=20</code>.\n",
    "* Does the plot look any closer to a normal bell curve?"
   ]
  },
  {
   "cell_type": "code",
   "execution_count": null,
   "metadata": {},
   "outputs": [],
   "source": []
  },
  {
   "cell_type": "markdown",
   "metadata": {},
   "source": [
    "#### C.) Next, plot a histogram of 1,000 randomly generated samples from a normal distribution centered at 0 with a standard deviation of 1.\n",
    "* Tip: We used the random seed value of 321 and <code>bins=20</code>.\n",
    "* Does the plot look any closer to a normal bell curve?"
   ]
  },
  {
   "cell_type": "code",
   "execution_count": null,
   "metadata": {},
   "outputs": [],
   "source": []
  },
  {
   "cell_type": "markdown",
   "metadata": {},
   "source": [
    "#### D.) Alright, let's really go all out. Plot a histogram of 100,000 randomly generated samples from a normal distribution centered at 0 with a standard deviation of 1.\n",
    "* Tip: We used the random seed value of 321 and <code>bins=20</code>.\n",
    "* Does the plot look like a normal bell curve?"
   ]
  },
  {
   "cell_type": "code",
   "execution_count": null,
   "metadata": {},
   "outputs": [],
   "source": []
  },
  {
   "cell_type": "markdown",
   "metadata": {},
   "source": [
    "#### E.) What happened to the shape of the distribution of your sampled values as you increased the sample size? How do you think this relates to the idea of signal vs. noise?"
   ]
  },
  {
   "cell_type": "markdown",
   "metadata": {},
   "source": [
    "## <span style=\"color:RoyalBlue\">Exercise 1.4 - Narrow, Normal, Wide</span>\n",
    "\n",
    "One of the reasons it's so important to be coding alongside as you learn these concepts is that the code can provide **intuitive illustrations** that no amount of math or theory can replace. Many of you going through this program will already understand normal distributions inside-and-out. It's probably the most important distribution in all of statistics/probability theory.\n",
    "\n",
    "But what if you don't yet understand them well? Or what if you learned about them a loooong time ago and haven't touched them in a blue moon? Well, how helpful do you think it would be to jump right into the formula and try to figure it out?\n",
    "\n",
    "$f(x\\mid \\mu ,\\sigma ^{2})={\\frac {1}{\\sqrt {2\\pi \\sigma ^{2}}}}e^{-{\\frac {(x-\\mu )^{2}}{2\\sigma ^{2}}}}$\n",
    "\n",
    "That formula is for the \"probability density\" of the normal distribution, but if you've never seen it before, how *helpful* would it actually be? For example, $\\mu$ is the mean, or where the distribution is centered, and $\\sigma$ is the standard deviation, or a measurement of the \"spread\" / variance of the values, but what does it mean in practice?\n",
    "\n",
    "Well, let's write a few lines of code and see just how easy it is to **build intuition** around a subject if you know how to **implement it first** and play around with it.\n",
    "\n",
    "#### A.) Plot a histogram of 100,000 randomly generated samples from a normal distribution centered at 0 with a standard deviation of 0.5.\n",
    "* Tip: We still used the random seed value of 321, but for this exercise, we recommend using <code>bins=40</code>.\n",
    "* Set the x-axis limits to be consistent and going from -5 to 5. You can do so with the <code>plt.xlim(-5, 5)</code> command immediately after your <code>plt.hist()</code> command."
   ]
  },
  {
   "cell_type": "code",
   "execution_count": null,
   "metadata": {},
   "outputs": [],
   "source": [
    "# Set random seed\n",
    "\n",
    "\n",
    "# Generate sample and plot\n",
    "\n",
    "\n",
    "# Set consistent x-axis limits\n"
   ]
  },
  {
   "cell_type": "markdown",
   "metadata": {},
   "source": [
    "<strong style=\"color:RoyalBlue\">Expected output:</strong>\n",
    "<img src=\"data:image/png;base64,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&#10;\">"
   ]
  },
  {
   "cell_type": "markdown",
   "metadata": {},
   "source": [
    "#### B.) Now, let's see what happens when we increase the standard deviation. Plot a histogram of 100,000 randomly generated samples from a normal distribution centered at 0 with a standard deviation of 1.\n",
    "* Tip: This is why it's important to set the x-axis limits to be consistent. With consistent x-axis limits, you can compare the \"fatness\" of the bell curve!\n",
    "* Do you notice the difference?"
   ]
  },
  {
   "cell_type": "code",
   "execution_count": null,
   "metadata": {},
   "outputs": [],
   "source": []
  },
  {
   "cell_type": "markdown",
   "metadata": {},
   "source": [
    "#### C.) Alright, let's increase standard deviation even more. Plot a histogram of 100,000 randomly generated samples from a normal distribution centered at 0 with a standard deviation of 2.\n",
    "* Tip: All you needed to do was change one value in one line of code from the previous part. But that one small change was enough to show you intuitively what happens when you increase standard deviation."
   ]
  },
  {
   "cell_type": "code",
   "execution_count": null,
   "metadata": {},
   "outputs": [],
   "source": []
  },
  {
   "cell_type": "markdown",
   "metadata": {},
   "source": [
    "Now, can you the imagine the implications for everything else we've been working on? For example, remember from the Coding Section how we generated random noise $\\epsilon$ using <code>np.random.normal(0, 0.5, 100)</code>? What if we actually wanted to simulate a problem where we have even NOISIER data?\n",
    "\n",
    "Well, now that we've *seen* how the second argument, standard deviation, affects the shape of the distribution, we know that making the $\\epsilon$ represent even more noise is just a matter of increasing standard deviation to <code>np.random.normal(0, 1, 100)</code> or even to <code>np.random.normal(0, 2, 100)</code>.\n",
    "\n",
    "Playing around with the code and using these toy problems to explore concepts is a hugely important learning tool and self-improvment meta-skill, and developing this skill for data science is much more important than learning any specific concept. We hope that you'll develop and embrace this habit of just tinkering with the concepts until they click.\n",
    "\n",
    "#### D.) Go ahead and tinker a bit more. Plot a histogram of 100,000 randomly generated samples from a normal distribution centered at 2.4 with a standard deviation of 0.7.\n",
    "* Is it what you expected?"
   ]
  },
  {
   "cell_type": "code",
   "execution_count": null,
   "metadata": {},
   "outputs": [],
   "source": []
  },
  {
   "cell_type": "markdown",
   "metadata": {},
   "source": [
    "## <span style=\"color:RoyalBlue\">Exercise 1.5 - Sports Betting</span>\n",
    "\n",
    "Another reason simulations are so powerful is that they can make tough problems very easy or even trivial.\n",
    "\n",
    "For example, let's say there's an upcoming basketball matchup between the defending champion (the \"favorite\") and your hometown team (the \"underdog\"). Everybody is writing off your team, but you think they have a chance to win. You want to place a bet on them winning the game, but you also don't want to be blinded by your own bias. So you want to calculate a rough probability of the underdog beating the favorite. How would you do so?\n",
    "\n",
    "#### Well, one simple approach is to look at the average points score per game this season by both the favorite and the underdog.\n",
    "\n",
    "You look that data up, and you discover...\n",
    "* The favorite has scored an average of **92 points per game.**\n",
    "* The underdog has scored an average of **80 points per game.**\n",
    "\n",
    "Hmm... $92 > 80$, so all hope is lost right? Well, not quite. Because you then have to factor in standard deviation, or the \"spread\" of those points scored.\n",
    "\n",
    "#### After all, the favorite could definitely underperform on game day while the underdogs overperform. What's the likelihood of that happening?\n",
    "\n",
    "OK, you then look up the data on standard deviation and discover that...\n",
    "* The favorite has a standard deviation of **6 points** in their scores.\n",
    "* The underdog is less consistent, with a standard deviation of **8 points** in their scores.\n",
    "\n",
    "#### Aha! Now we're getting somewhere. But what's next?\n",
    "\n",
    "Well, if you've already learned about and remember the formulas from probability theory, you can definitely calculate the probability that the underdog scores more than the favorite based on the information above, assuming the scores are independent of one another (which is probably not correct, but for simplicity's sake, let's go with it)...\n",
    "\n",
    "#### But what if you want to start considering more and more complex factors?\n",
    "\n",
    "For example, maybe you want to round the scores to the nearest integer because scores cannot be partial. And in the event of a tie? Well, the game goes to overtime, but maybe you know the favorite wins almost every game that goes to overtime, so you want to automatically give ties to the favorite.\n",
    "\n",
    "Or, at the end of the day, what if you just forgot / never learned the formulas from probability theory? The point is, it can sometimes be difficult or nearly impossible to calculate everything with straight math. \n",
    "\n",
    "#### Simulations to the rescue!\n",
    "\n",
    "Let's use simulations to calculate the probability of the underdog upsetting the favorite using a simulation and using the simple approach of comparing average points scored per game and standard deviations. However, let's round the scores to the nearest integer because scores cannot be partial. And in the event of a tie, let's automatically give the game to the favorite.\n",
    "\n",
    "#### A.) First, let's simulate the scores from only 10 games (i.e. \"trials\") played between the favorite and the underdog. A few details:\n",
    "* Set the random seed to 321.\n",
    "* Round the scores to the nearest integer. Tip: look into <code>np.round()</code>.\n",
    "* Display the simulated scores from each team in those 10 games."
   ]
  },
  {
   "cell_type": "code",
   "execution_count": null,
   "metadata": {
    "scrolled": true
   },
   "outputs": [],
   "source": [
    "# Set random seed\n",
    "\n",
    "\n",
    "# Simulate games of favorite vs. underdog\n",
    "\n",
    "\n",
    "\n",
    "# Display scores\n",
    "print('Favorite:', favorite)\n",
    "print('Underdog:', underdog)"
   ]
  },
  {
   "cell_type": "markdown",
   "metadata": {},
   "source": [
    "<strong style=\"color:RoyalBlue\">Expected output:</strong>\n",
    "\n",
    "<pre>\n",
    "Favorite: [ 93. 102.  92.  87.  85.  88.  84.  87.  91. 102.]\n",
    "Underdog: [78. 76. 81. 92. 67. 77. 73. 76. 79. 76.]\n",
    "</pre>"
   ]
  },
  {
   "cell_type": "markdown",
   "metadata": {},
   "source": [
    "#### B.) Create an array of those games that the underdog wins.\n",
    "* Tip: You can treat values in each array with the same index as the scores from each respective team in the same simulated game. So <code>favorite[0]</code> and <code>underdog[0]</code> are the scores from the favorite and the underdog respectively in the first simulated game.\n",
    "* Tip: Underdog's score must be **greater than** the favorite's score (if the scores are equal, then the favorite wins in overtime)."
   ]
  },
  {
   "cell_type": "code",
   "execution_count": null,
   "metadata": {},
   "outputs": [],
   "source": []
  },
  {
   "cell_type": "markdown",
   "metadata": {},
   "source": [
    "<strong style=\"color:RoyalBlue\">Expected output:</strong>\n",
    "\n",
    "<pre>\n",
    "[False False False  True False False False False False False]\n",
    "</pre>"
   ]
  },
  {
   "cell_type": "markdown",
   "metadata": {},
   "source": [
    "#### C.) Calculate the percent of games that the underdog won in the 10 simulated games.\n",
    "* Tip: <code>np.mean([True, False, False, False])</code> is 0.25."
   ]
  },
  {
   "cell_type": "code",
   "execution_count": null,
   "metadata": {},
   "outputs": [],
   "source": []
  },
  {
   "cell_type": "markdown",
   "metadata": {},
   "source": [
    "#### D.) OK, now that we've done a mini-simulation and sanity checked each step, let's actually repeat this simulation over 100,000 games instead of just 10 games. Calculate the percent of games the underdog wins.\n",
    "* Let's keep random seed of 321."
   ]
  },
  {
   "cell_type": "code",
   "execution_count": null,
   "metadata": {},
   "outputs": [],
   "source": [
    "# Set random seed\n",
    "\n",
    "\n",
    "# Simulate games of favorite vs. underdog\n",
    "\n",
    "\n",
    "\n",
    "# Percent of games the underdog wins\n"
   ]
  },
  {
   "cell_type": "markdown",
   "metadata": {},
   "source": [
    "<strong style=\"color:RoyalBlue\">Expected output:</strong>\n",
    "\n",
    "<pre>\n",
    "0.10508\n",
    "</pre>\n",
    "\n",
    "Pretty cool, right? In the rest of this module, we're mostly using simulations as learning tool with the help of our noisy sine wave, but hopefully this exercise showed you how easy it can be use to simulations to solve problems as long as you know how to define the problem!"
   ]
  }
 ],
 "metadata": {
  "anaconda-cloud": {},
  "kernelspec": {
   "display_name": "Python 3",
   "language": "python",
   "name": "python3"
  },
  "language_info": {
   "codemirror_mode": {
    "name": "ipython",
    "version": 3
   },
   "file_extension": ".py",
   "mimetype": "text/x-python",
   "name": "python",
   "nbconvert_exporter": "python",
   "pygments_lexer": "ipython3",
   "version": "3.7.0"
  }
 },
 "nbformat": 4,
 "nbformat_minor": 1
}
