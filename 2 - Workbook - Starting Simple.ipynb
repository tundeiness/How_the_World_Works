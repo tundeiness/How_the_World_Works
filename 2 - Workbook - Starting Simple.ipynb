{
 "cells": [
  {
   "cell_type": "markdown",
   "metadata": {},
   "source": [
    "#### COMPANION WORKBOOK\n",
    "\n",
    "# Starting Simple\n",
    "\n",
    "To make the most out of this program, we strongly recommend you to:\n",
    "1. First practice writing and implementing all of the code from Coding Section of the online module.\n",
    "2. Then, freely experiment with and explore any interesting or confusing concepts. Simply insert new code cells and then use the help of Google and official documentation.\n",
    "3. Finally, tackle all of the exercises at the end. They will help you tie everything together and **learn in context.**\n",
    "\n",
    "#### <span style=\"color:#555\">MODULE CODE SANDBOX</span>\n",
    "\n",
    "Use this space to practice writing and implementing all of the code from Coding Section of the online module. Insert new code cells as needed, and feel free to write notes to yourself in Markdown."
   ]
  },
  {
   "cell_type": "markdown",
   "metadata": {},
   "source": [
    "## I. Bare Bones Simplicity"
   ]
  },
  {
   "cell_type": "code",
   "execution_count": null,
   "metadata": {},
   "outputs": [],
   "source": []
  },
  {
   "cell_type": "code",
   "execution_count": null,
   "metadata": {},
   "outputs": [],
   "source": []
  },
  {
   "cell_type": "code",
   "execution_count": null,
   "metadata": {},
   "outputs": [],
   "source": []
  },
  {
   "cell_type": "markdown",
   "metadata": {},
   "source": [
    "## II. Mean Model Performance"
   ]
  },
  {
   "cell_type": "code",
   "execution_count": null,
   "metadata": {},
   "outputs": [],
   "source": []
  },
  {
   "cell_type": "code",
   "execution_count": null,
   "metadata": {},
   "outputs": [],
   "source": []
  },
  {
   "cell_type": "code",
   "execution_count": null,
   "metadata": {},
   "outputs": [],
   "source": []
  },
  {
   "cell_type": "markdown",
   "metadata": {},
   "source": [
    "## III. Sloping Complexity"
   ]
  },
  {
   "cell_type": "code",
   "execution_count": null,
   "metadata": {},
   "outputs": [],
   "source": []
  },
  {
   "cell_type": "code",
   "execution_count": null,
   "metadata": {},
   "outputs": [],
   "source": []
  },
  {
   "cell_type": "code",
   "execution_count": null,
   "metadata": {},
   "outputs": [],
   "source": []
  },
  {
   "cell_type": "markdown",
   "metadata": {},
   "source": [
    "## IV. Linear Regression Performance"
   ]
  },
  {
   "cell_type": "code",
   "execution_count": null,
   "metadata": {},
   "outputs": [],
   "source": []
  },
  {
   "cell_type": "code",
   "execution_count": null,
   "metadata": {},
   "outputs": [],
   "source": []
  },
  {
   "cell_type": "code",
   "execution_count": null,
   "metadata": {},
   "outputs": [],
   "source": []
  },
  {
   "cell_type": "markdown",
   "metadata": {},
   "source": [
    "#### <span style=\"color:#555\">EXERCISES</span>\n",
    "\n",
    "Complete each of the following exercises."
   ]
  },
  {
   "cell_type": "markdown",
   "metadata": {},
   "source": [
    "#### First, remember to import the relevant libraries and set the theme (if you haven't done so already)."
   ]
  },
  {
   "cell_type": "code",
   "execution_count": 8,
   "metadata": {},
   "outputs": [],
   "source": []
  },
  {
   "cell_type": "markdown",
   "metadata": {},
   "source": [
    "## <span style=\"color:RoyalBlue\">Exercise 2.1 - Model Parameters</span>\n",
    "\n",
    "Without knowing it, in this module, you've seen your first examples of **model parameters**. Model parameters are traits that define an **individual model,** and they are learned directly from the data.\n",
    "\n",
    "For example, in our mean model, the only model parameter was the average value of $y$'s in our dataset, which served as our prediction. For our linear regression model, the model parameters were its intercept and coefficient, which were able to fully define the model. In other words, you could make predictions from the linear model just by knowing its intercept and coefficient.\n",
    "\n",
    "Let's explore this concept a bit more and really drive home the point that **model parameters define individual models.**\n",
    "\n",
    "#### A.) First, import <code>'simulated_data.csv'</code> from the previous module if you haven't done so already and then display the first 5 observations."
   ]
  },
  {
   "cell_type": "code",
   "execution_count": 15,
   "metadata": {},
   "outputs": [
    {
     "data": {
      "text/html": [
       "<div>\n",
       "<style scoped>\n",
       "    .dataframe tbody tr th:only-of-type {\n",
       "        vertical-align: middle;\n",
       "    }\n",
       "\n",
       "    .dataframe tbody tr th {\n",
       "        vertical-align: top;\n",
       "    }\n",
       "\n",
       "    .dataframe thead th {\n",
       "        text-align: right;\n",
       "    }\n",
       "</style>\n",
       "<table border=\"1\" class=\"dataframe\">\n",
       "  <thead>\n",
       "    <tr style=\"text-align: right;\">\n",
       "      <th></th>\n",
       "      <th>x</th>\n",
       "      <th>y</th>\n",
       "    </tr>\n",
       "  </thead>\n",
       "  <tbody>\n",
       "    <tr>\n",
       "      <th>0</th>\n",
       "      <td>0.000000</td>\n",
       "      <td>0.086260</td>\n",
       "    </tr>\n",
       "    <tr>\n",
       "      <th>1</th>\n",
       "      <td>0.063467</td>\n",
       "      <td>0.881165</td>\n",
       "    </tr>\n",
       "    <tr>\n",
       "      <th>2</th>\n",
       "      <td>0.126933</td>\n",
       "      <td>0.145261</td>\n",
       "    </tr>\n",
       "    <tr>\n",
       "      <th>3</th>\n",
       "      <td>0.190400</td>\n",
       "      <td>-0.252824</td>\n",
       "    </tr>\n",
       "    <tr>\n",
       "      <th>4</th>\n",
       "      <td>0.253866</td>\n",
       "      <td>-0.320448</td>\n",
       "    </tr>\n",
       "  </tbody>\n",
       "</table>\n",
       "</div>"
      ],
      "text/plain": [
       "          x         y\n",
       "0  0.000000  0.086260\n",
       "1  0.063467  0.881165\n",
       "2  0.126933  0.145261\n",
       "3  0.190400 -0.252824\n",
       "4  0.253866 -0.320448"
      ]
     },
     "execution_count": 15,
     "metadata": {},
     "output_type": "execute_result"
    }
   ],
   "source": []
  },
  {
   "cell_type": "markdown",
   "metadata": {},
   "source": [
    "<strong style=\"color:RoyalBlue\">Expected output:</strong>\n",
    "<table border=\"1\" class=\"dataframe\">\n",
    "  <thead>\n",
    "    <tr style=\"text-align: right;\">\n",
    "      <th></th>\n",
    "      <th>x</th>\n",
    "      <th>y</th>\n",
    "    </tr>\n",
    "  </thead>\n",
    "  <tbody>\n",
    "    <tr>\n",
    "      <th>0</th>\n",
    "      <td>0.000000</td>\n",
    "      <td>0.086260</td>\n",
    "    </tr>\n",
    "    <tr>\n",
    "      <th>1</th>\n",
    "      <td>0.063467</td>\n",
    "      <td>0.881165</td>\n",
    "    </tr>\n",
    "    <tr>\n",
    "      <th>2</th>\n",
    "      <td>0.126933</td>\n",
    "      <td>0.145261</td>\n",
    "    </tr>\n",
    "    <tr>\n",
    "      <th>3</th>\n",
    "      <td>0.190400</td>\n",
    "      <td>-0.252824</td>\n",
    "    </tr>\n",
    "    <tr>\n",
    "      <th>4</th>\n",
    "      <td>0.253866</td>\n",
    "      <td>-0.320448</td>\n",
    "    </tr>\n",
    "  </tbody>\n",
    "</table>"
   ]
  },
  {
   "cell_type": "markdown",
   "metadata": {},
   "source": [
    "#### B.) Next, fit a linear regression model on the dataset again. Then display its intercept and coefficient model parameters."
   ]
  },
  {
   "cell_type": "code",
   "execution_count": 16,
   "metadata": {},
   "outputs": [
    {
     "name": "stdout",
     "output_type": "stream",
     "text": [
      "0.8238675120273314\n",
      "[-0.26773758]\n"
     ]
    }
   ],
   "source": []
  },
  {
   "cell_type": "markdown",
   "metadata": {},
   "source": [
    "<strong style=\"color:RoyalBlue\">Expected output:</strong>\n",
    "<pre>\n",
    "0.8238675120273314\n",
    "[-0.26773758]\n",
    "</pre>"
   ]
  },
  {
   "cell_type": "markdown",
   "metadata": {},
   "source": [
    "#### C.) Plot only the line (i.e. the predicted values) from the linear regression model.\n",
    "* **Important:** Set the x-axis limits to be between 0 and 6 and the y-axis limits to be between -3 to 3. Tip: <code>plt.xlim()</code> and <code>plt.ylim()</code>\n",
    "* Do you notice how the intercept is where the line crosses the y-axis?\n",
    "* Do you notice how the coefficient is the slope of the line? (a -0.27 coefficient should mean the line is slightly sloping downward, right?)"
   ]
  },
  {
   "cell_type": "code",
   "execution_count": 20,
   "metadata": {},
   "outputs": [
    {
     "data": {
      "image/png": "[encoded data removed]",
      "text/plain": [
       "<Figure size 432x288 with 1 Axes>"
      ]
     },
     "metadata": {},
     "output_type": "display_data"
    }
   ],
   "source": []
  },
  {
   "cell_type": "markdown",
   "metadata": {},
   "source": [
    "<strong style=\"color:RoyalBlue\">Expected output:</strong>\n",
    "<img src=\"data:image/png;base64,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&#10;\">"
   ]
  },
  {
   "cell_type": "markdown",
   "metadata": {},
   "source": [
    "#### D.) WITHOUT using the <code>lm.predict()</code> function, calculate the prediction of $y$ for when $x = 3.75$, $x = -43$, and $x = 2\\pi$."
   ]
  },
  {
   "cell_type": "code",
   "execution_count": 22,
   "metadata": {},
   "outputs": [
    {
     "name": "stdout",
     "output_type": "stream",
     "text": [
      "[-0.18014843]\n",
      "[12.33658366]\n",
      "[-0.85837735]\n"
     ]
    }
   ],
   "source": []
  },
  {
   "cell_type": "markdown",
   "metadata": {},
   "source": [
    "<strong style=\"color:RoyalBlue\">Expected output:</strong>\n",
    "\n",
    "<pre>\n",
    "[-0.18014843]\n",
    "[12.33658366]\n",
    "[-0.85837735]\n",
    "</pre>"
   ]
  },
  {
   "cell_type": "markdown",
   "metadata": {},
   "source": [
    "#### E.) Using the <code>lm.predict()</code> function, confirm your calculated prediction is correct.\n",
    "* Do you see how the intercept and coefficient fully define a linear regression model? These are **model parameters** learned from the data!"
   ]
  },
  {
   "cell_type": "code",
   "execution_count": 23,
   "metadata": {},
   "outputs": [
    {
     "name": "stdout",
     "output_type": "stream",
     "text": [
      "[-0.18014843]\n",
      "[12.33658366]\n",
      "[-0.85837735]\n"
     ]
    }
   ],
   "source": []
  },
  {
   "cell_type": "markdown",
   "metadata": {},
   "source": [
    "#### F.) Now, assume you had another linear regression model with intercept $\\beta_0 = 3.2$ and coefficient $\\beta_1 = 0.73$. Manually calculate the prediction of $y$ for when $x = 3.75$, $x = -43$, and $x = 2\\pi$."
   ]
  },
  {
   "cell_type": "code",
   "execution_count": 24,
   "metadata": {},
   "outputs": [
    {
     "name": "stdout",
     "output_type": "stream",
     "text": [
      "5.9375\n",
      "-28.19\n",
      "7.786725274241098\n"
     ]
    }
   ],
   "source": []
  },
  {
   "cell_type": "markdown",
   "metadata": {},
   "source": [
    "<strong style=\"color:RoyalBlue\">Expected output:</strong>\n",
    "\n",
    "<pre>\n",
    "5.9375\n",
    "-28.19\n",
    "7.786725274241098\n",
    "</pre>"
   ]
  },
  {
   "cell_type": "markdown",
   "metadata": {},
   "source": [
    "#### G.) Initialize a new instance of a LinearRegression class and name it <code>lm2</code>. Then, manually set its intercept and coefficient (yes, you can do this!). Then print the model parameters to confirm it worked.\n",
    "* Tip: You can manually set model parameters like so <code>model.param_name_ = new_value</code>\n",
    "* Tip: You need to pass a **NumPy array** of value(s) for the coefficient model parameter! As we'll see in the next module, you can have more than one coefficient (in fact, you'll have a different coefficient for each input feature).\n",
    "* See the Answer Key if you get stuck on this step."
   ]
  },
  {
   "cell_type": "code",
   "execution_count": 28,
   "metadata": {},
   "outputs": [
    {
     "name": "stdout",
     "output_type": "stream",
     "text": [
      "3.2\n",
      "[0.73]\n"
     ]
    }
   ],
   "source": []
  },
  {
   "cell_type": "markdown",
   "metadata": {},
   "source": [
    "<strong style=\"color:RoyalBlue\">Expected output:</strong>\n",
    "\n",
    "<pre>\n",
    "3.2\n",
    "[0.73]\n",
    "</pre>"
   ]
  },
  {
   "cell_type": "markdown",
   "metadata": {},
   "source": [
    "####  H.) Finally, using your new <code>lm2</code> model that you created manually, confirm your calculated prediction from (F) are correct."
   ]
  },
  {
   "cell_type": "code",
   "execution_count": 29,
   "metadata": {},
   "outputs": [
    {
     "name": "stdout",
     "output_type": "stream",
     "text": [
      "[5.9375]\n",
      "[-28.19]\n",
      "[7.78672527]\n"
     ]
    }
   ],
   "source": []
  },
  {
   "cell_type": "markdown",
   "metadata": {},
   "source": [
    "<strong style=\"color:RoyalBlue\">Expected output:</strong>\n",
    "\n",
    "<pre>\n",
    "[5.9375]\n",
    "[-28.19]\n",
    "[7.78672527]\n",
    "</pre>\n",
    "\n",
    "Pretty cool, right? Basically, if you are an oracle, you could just hard-code every model by manually defining its model parameters. For the rest of us, we'll stick to letting algorithms learn these parameters from the data ;-)"
   ]
  },
  {
   "cell_type": "markdown",
   "metadata": {},
   "source": [
    "## <span style=\"color:RoyalBlue\">Exercise 2.2 - Noisy Tangent vs. Mean Model</span>\n",
    "\n",
    "Alright, let's revisit the noisy tangent simulated dataset from the previous module's exercises. Let's replicate the two simple models from this module (the mean model and the linear regression model) on our noisy tangent dataset.\n",
    "\n",
    "#### A.) First, read in the <code>'simulated_tangent_data.csv'</code> you saved from the previous module into a <code>tangent_df</code> dataframe. Then display the first 5 rows for a quick sanity check."
   ]
  },
  {
   "cell_type": "code",
   "execution_count": 7,
   "metadata": {},
   "outputs": [
    {
     "data": {
      "text/html": [
       "<div>\n",
       "<style scoped>\n",
       "    .dataframe tbody tr th:only-of-type {\n",
       "        vertical-align: middle;\n",
       "    }\n",
       "\n",
       "    .dataframe tbody tr th {\n",
       "        vertical-align: top;\n",
       "    }\n",
       "\n",
       "    .dataframe thead th {\n",
       "        text-align: right;\n",
       "    }\n",
       "</style>\n",
       "<table border=\"1\" class=\"dataframe\">\n",
       "  <thead>\n",
       "    <tr style=\"text-align: right;\">\n",
       "      <th></th>\n",
       "      <th>x</th>\n",
       "      <th>y</th>\n",
       "    </tr>\n",
       "  </thead>\n",
       "  <tbody>\n",
       "    <tr>\n",
       "      <th>0</th>\n",
       "      <td>0.000000</td>\n",
       "      <td>0.086260</td>\n",
       "    </tr>\n",
       "    <tr>\n",
       "      <th>1</th>\n",
       "      <td>0.063467</td>\n",
       "      <td>0.881293</td>\n",
       "    </tr>\n",
       "    <tr>\n",
       "      <th>2</th>\n",
       "      <td>0.126933</td>\n",
       "      <td>0.146287</td>\n",
       "    </tr>\n",
       "    <tr>\n",
       "      <th>3</th>\n",
       "      <td>0.190400</td>\n",
       "      <td>-0.249341</td>\n",
       "    </tr>\n",
       "    <tr>\n",
       "      <th>4</th>\n",
       "      <td>0.253866</td>\n",
       "      <td>-0.312132</td>\n",
       "    </tr>\n",
       "  </tbody>\n",
       "</table>\n",
       "</div>"
      ],
      "text/plain": [
       "          x         y\n",
       "0  0.000000  0.086260\n",
       "1  0.063467  0.881293\n",
       "2  0.126933  0.146287\n",
       "3  0.190400 -0.249341\n",
       "4  0.253866 -0.312132"
      ]
     },
     "execution_count": 7,
     "metadata": {},
     "output_type": "execute_result"
    }
   ],
   "source": []
  },
  {
   "cell_type": "markdown",
   "metadata": {},
   "source": [
    "<strong style=\"color:RoyalBlue\">Expected output:</strong>\n",
    "<table border=\"1\" class=\"dataframe\">\n",
    "  <thead>\n",
    "    <tr style=\"text-align: right;\">\n",
    "      <th></th>\n",
    "      <th>x</th>\n",
    "      <th>y</th>\n",
    "    </tr>\n",
    "  </thead>\n",
    "  <tbody>\n",
    "    <tr>\n",
    "      <th>0</th>\n",
    "      <td>0.000000</td>\n",
    "      <td>0.086260</td>\n",
    "    </tr>\n",
    "    <tr>\n",
    "      <th>1</th>\n",
    "      <td>0.063467</td>\n",
    "      <td>0.881293</td>\n",
    "    </tr>\n",
    "    <tr>\n",
    "      <th>2</th>\n",
    "      <td>0.126933</td>\n",
    "      <td>0.146287</td>\n",
    "    </tr>\n",
    "    <tr>\n",
    "      <th>3</th>\n",
    "      <td>0.190400</td>\n",
    "      <td>-0.249341</td>\n",
    "    </tr>\n",
    "    <tr>\n",
    "      <th>4</th>\n",
    "      <td>0.253866</td>\n",
    "      <td>-0.312132</td>\n",
    "    </tr>\n",
    "  </tbody>\n",
    "</table>"
   ]
  },
  {
   "cell_type": "markdown",
   "metadata": {},
   "source": [
    "#### B.) Next, just as reminder, plot a scatterplot of $x$ versus $y$, along with an overlay of the tangent function.\n",
    "* Remember that the tangent function represents the \"true underlying relationship.\"\n",
    "* Set the y-axis limits to be from -5 to 5."
   ]
  },
  {
   "cell_type": "code",
   "execution_count": 4,
   "metadata": {},
   "outputs": [
    {
     "data": {
      "image/png": "[encoded data removed]",
      "text/plain": [
       "<Figure size 432x288 with 1 Axes>"
      ]
     },
     "metadata": {
      "needs_background": "light"
     },
     "output_type": "display_data"
    }
   ],
   "source": []
  },
  {
   "cell_type": "markdown",
   "metadata": {},
   "source": [
    "<strong style=\"color:RoyalBlue\">Expected output:</strong>\n",
    "<img src=\"data:image/png;base64,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&#10;\">"
   ]
  },
  {
   "cell_type": "markdown",
   "metadata": {},
   "source": [
    "#### C.) What is the predicted value from a mean model based on this dataset?"
   ]
  },
  {
   "cell_type": "code",
   "execution_count": 13,
   "metadata": {
    "scrolled": true
   },
   "outputs": [
    {
     "data": {
      "text/plain": [
       "-0.017254917297308325"
      ]
     },
     "execution_count": 13,
     "metadata": {},
     "output_type": "execute_result"
    }
   ],
   "source": []
  },
  {
   "cell_type": "markdown",
   "metadata": {},
   "source": [
    "<strong style=\"color:RoyalBlue\">Expected output:</strong>\n",
    "<pre>\n",
    "-0.017254917297308325\n",
    "</pre>"
   ]
  },
  {
   "cell_type": "markdown",
   "metadata": {},
   "source": [
    "#### D.) Plot the mean model overlayed on the original dataset. What can you conclude about the mean model's performance?"
   ]
  },
  {
   "cell_type": "code",
   "execution_count": 6,
   "metadata": {},
   "outputs": [
    {
     "data": {
      "image/png": "[encoded data removed]",
      "text/plain": [
       "<Figure size 432x288 with 1 Axes>"
      ]
     },
     "metadata": {
      "needs_background": "light"
     },
     "output_type": "display_data"
    }
   ],
   "source": []
  },
  {
   "cell_type": "markdown",
   "metadata": {},
   "source": [
    "<strong style=\"color:RoyalBlue\">Expected output:</strong>\n",
    "<img src=\"data:image/png;base64,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&#10;\">"
   ]
  },
  {
   "cell_type": "markdown",
   "metadata": {},
   "source": [
    "## <span style=\"color:RoyalBlue\">Exercise 2.3 - Noisy Tangent vs. Linear Model</span>\n",
    "\n",
    "Let's do the same process for the linear regression model.\n",
    "\n",
    "#### A.) Fit a linear regression model on the noisy tangent dataset. What is the intercept and coefficient (slope)?"
   ]
  },
  {
   "cell_type": "code",
   "execution_count": 30,
   "metadata": {},
   "outputs": [
    {
     "name": "stdout",
     "output_type": "stream",
     "text": [
      "-0.9160747057706671\n",
      "[0.28610322]\n"
     ]
    }
   ],
   "source": []
  },
  {
   "cell_type": "markdown",
   "metadata": {},
   "source": [
    "<strong style=\"color:RoyalBlue\">Expected output:</strong>\n",
    "<pre>\n",
    "-0.9160747057706671\n",
    "[0.28610322]\n",
    "</pre>"
   ]
  },
  {
   "cell_type": "markdown",
   "metadata": {},
   "source": [
    "#### B.) Plot the linear model overlayed on the original dataset. What can you conclude about the linear model's performance?"
   ]
  },
  {
   "cell_type": "code",
   "execution_count": 31,
   "metadata": {},
   "outputs": [
    {
     "data": {
      "image/png": "[encoded data removed]",
      "text/plain": [
       "<Figure size 432x288 with 1 Axes>"
      ]
     },
     "metadata": {},
     "output_type": "display_data"
    }
   ],
   "source": []
  },
  {
   "cell_type": "markdown",
   "metadata": {},
   "source": [
    "<strong style=\"color:RoyalBlue\">Expected output:</strong>\n",
    "<img src=\"data:image/png;base64,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&#10;\">"
   ]
  }
 ],
 "metadata": {
  "anaconda-cloud": {},
  "kernelspec": {
   "display_name": "Python 3",
   "language": "python",
   "name": "python3"
  },
  "language_info": {
   "codemirror_mode": {
    "name": "ipython",
    "version": 3
   },
   "file_extension": ".py",
   "mimetype": "text/x-python",
   "name": "python",
   "nbconvert_exporter": "python",
   "pygments_lexer": "ipython3",
   "version": "3.7.0"
  }
 },
 "nbformat": 4,
 "nbformat_minor": 1
}
