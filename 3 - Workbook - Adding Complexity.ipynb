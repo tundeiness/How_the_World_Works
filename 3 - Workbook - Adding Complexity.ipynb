{
 "cells": [
  {
   "cell_type": "markdown",
   "metadata": {},
   "source": [
    "#### COMPANION WORKBOOK\n",
    "\n",
    "# Adding Complexity\n",
    "\n",
    "To make the most out of this program, we strongly recommend you to:\n",
    "1. First practice writing and implementing all of the code from Coding Section of the online module.\n",
    "2. Then, freely experiment with and explore any interesting or confusing concepts. Simply insert new code cells and then use the help of Google and official documentation.\n",
    "3. Finally, tackle all of the exercises at the end. They will help you tie everything together and **learn in context.**\n",
    "\n",
    "#### <span style=\"color:#555\">MODULE CODE SANDBOX</span>\n",
    "\n",
    "Use this space to practice writing and implementing all of the code from Coding Section of the online module. Insert new code cells as needed, and feel free to write notes to yourself in Markdown."
   ]
  },
  {
   "cell_type": "markdown",
   "metadata": {},
   "source": [
    "## I. Curves and Complexity"
   ]
  },
  {
   "cell_type": "code",
   "execution_count": null,
   "metadata": {},
   "outputs": [],
   "source": []
  },
  {
   "cell_type": "code",
   "execution_count": null,
   "metadata": {},
   "outputs": [],
   "source": []
  },
  {
   "cell_type": "code",
   "execution_count": null,
   "metadata": {},
   "outputs": [],
   "source": []
  },
  {
   "cell_type": "markdown",
   "metadata": {},
   "source": [
    "## II. Polynomial Regression"
   ]
  },
  {
   "cell_type": "code",
   "execution_count": null,
   "metadata": {},
   "outputs": [],
   "source": []
  },
  {
   "cell_type": "code",
   "execution_count": null,
   "metadata": {},
   "outputs": [],
   "source": []
  },
  {
   "cell_type": "code",
   "execution_count": null,
   "metadata": {},
   "outputs": [],
   "source": []
  },
  {
   "cell_type": "markdown",
   "metadata": {},
   "source": [
    "## III. Helper Functions\n"
   ]
  },
  {
   "cell_type": "code",
   "execution_count": null,
   "metadata": {},
   "outputs": [],
   "source": []
  },
  {
   "cell_type": "code",
   "execution_count": null,
   "metadata": {},
   "outputs": [],
   "source": []
  },
  {
   "cell_type": "code",
   "execution_count": null,
   "metadata": {},
   "outputs": [],
   "source": []
  },
  {
   "cell_type": "markdown",
   "metadata": {},
   "source": [
    "## IV. Higher-Order Polynomials\n"
   ]
  },
  {
   "cell_type": "code",
   "execution_count": null,
   "metadata": {},
   "outputs": [],
   "source": []
  },
  {
   "cell_type": "code",
   "execution_count": null,
   "metadata": {},
   "outputs": [],
   "source": []
  },
  {
   "cell_type": "code",
   "execution_count": null,
   "metadata": {},
   "outputs": [],
   "source": []
  },
  {
   "cell_type": "markdown",
   "metadata": {},
   "source": [
    "#### <span style=\"color:#555\">EXERCISES</span>\n",
    "\n",
    "Complete each of the following exercises."
   ]
  },
  {
   "cell_type": "markdown",
   "metadata": {},
   "source": [
    "#### First, remember to import the relevant libraries and set the theme (if you haven't done so already)."
   ]
  },
  {
   "cell_type": "code",
   "execution_count": null,
   "metadata": {},
   "outputs": [],
   "source": []
  },
  {
   "cell_type": "markdown",
   "metadata": {},
   "source": [
    "## <span style=\"color:RoyalBlue\">Exercise 3.1 - Coding Section Checkpoint</span>\n",
    "\n",
    "Before moving on, it's imperative that you've been following along the online Coding Section of this module. Those are core to each module and often contain **mission-critical code**, which means that the following modules REQUIRE you to have run that code.\n",
    "\n",
    "This one is a perfect example. In the online Coding Section (which you should have followed in the workbook space above), we wrote a few helper functions for fitting and plotting models. So let's just fully double-check that we're on the same page and that you've written those helper functions successfully.\n",
    "\n",
    "#### A.) Import <code>'simulated_data.csv'</code> that you created during the follow-along coding section and display the first 5 observations."
   ]
  },
  {
   "cell_type": "code",
   "execution_count": null,
   "metadata": {},
   "outputs": [],
   "source": []
  },
  {
   "cell_type": "markdown",
   "metadata": {},
   "source": [
    "<strong style=\"color:RoyalBlue\">Expected output:</strong>\n",
    "<table border=\"1\" class=\"dataframe\">\n",
    "  <thead>\n",
    "    <tr style=\"text-align: right;\">\n",
    "      <th></th>\n",
    "      <th>x</th>\n",
    "      <th>y</th>\n",
    "    </tr>\n",
    "  </thead>\n",
    "  <tbody>\n",
    "    <tr>\n",
    "      <th>0</th>\n",
    "      <td>0.000000</td>\n",
    "      <td>0.086260</td>\n",
    "    </tr>\n",
    "    <tr>\n",
    "      <th>1</th>\n",
    "      <td>0.063467</td>\n",
    "      <td>0.881165</td>\n",
    "    </tr>\n",
    "    <tr>\n",
    "      <th>2</th>\n",
    "      <td>0.126933</td>\n",
    "      <td>0.145261</td>\n",
    "    </tr>\n",
    "    <tr>\n",
    "      <th>3</th>\n",
    "      <td>0.190400</td>\n",
    "      <td>-0.252824</td>\n",
    "    </tr>\n",
    "    <tr>\n",
    "      <th>4</th>\n",
    "      <td>0.253866</td>\n",
    "      <td>-0.320448</td>\n",
    "    </tr>\n",
    "  </tbody>\n",
    "</table>"
   ]
  },
  {
   "cell_type": "markdown",
   "metadata": {},
   "source": [
    "#### B.) Fit and plot a 20th-order polynomial regression.\n",
    "* What can you conclude about the model? Is it what you expected?"
   ]
  },
  {
   "cell_type": "code",
   "execution_count": null,
   "metadata": {},
   "outputs": [],
   "source": []
  },
  {
   "cell_type": "markdown",
   "metadata": {},
   "source": [
    "<strong style=\"color:RoyalBlue\">Expected output:</strong>\n",
    "\n",
    "<img src=\"data:image/png;base64,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&#10;\">"
   ]
  },
  {
   "cell_type": "markdown",
   "metadata": {},
   "source": [
    "## <span style=\"color:RoyalBlue\">Exercise 3.2 - False Complexity</span>\n",
    "\n",
    "In the Coding Section for this module, we discovered that (at least based on a quick eyeball test), a third-order polynomial regression seems to do the best job of learning the underlying sine wave signal. But here's an interesting question... do you think the right complexity level is due to having BOTH $\\beta_2 x^2 + \\beta_3 x^3$ or simply increasing our highest polynomial term up to $\\beta_3 x^3$?\n",
    "\n",
    "In other words, instead of:\n",
    "\n",
    "> $\\hat{y} = \\beta_0 + \\beta_1 x + \\beta_2 x^2 + \\beta_3 x^3$\n",
    "\n",
    "What if we cut out the $x^2$ term and just jump directly to a model like so:\n",
    "\n",
    "> $\\hat{y} = \\beta_0 + \\beta_1 x + \\beta_2 x^3$\n",
    "\n",
    "Would that work? Well... let's see! Yes, we could just \"tell you\" from a theory standpoint, but it's going to be much more illuminating to discover the answer for yourself, right? That's the huge advantage of coding alongside as you learn, so let's use it.\n",
    "\n",
    "#### A.) Fit and plot a model based on $\\hat{y} = \\beta_0 + \\beta_1 x + \\beta_2 x^3$.\n",
    "* Tip: We recommend making a copy of <code>df</code>, directly preparing your input features in the copy dataframe, and then passing it into <code>fit_and_plot_model()</code> (instead of <code>fit_and_plot_polynomial_model()</code>). All in all, it would only take 3 lines of code.\n",
    "* What do you notice? Is it what you expected?"
   ]
  },
  {
   "cell_type": "code",
   "execution_count": null,
   "metadata": {
    "scrolled": true
   },
   "outputs": [],
   "source": [
    "# Make a copy of df\n",
    "\n",
    "\n",
    "# Engineer x^3 feature\n",
    "\n",
    "\n",
    "# Fit and plot model\n"
   ]
  },
  {
   "cell_type": "markdown",
   "metadata": {},
   "source": [
    "<strong style=\"color:RoyalBlue\">Expected output:</strong>\n",
    "\n",
    "<img src=\"data:image/png;base64,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&#10;\">\n",
    "\n",
    "As it turns out, it looks like cutting the $x^2$ term was fatal for the model. Hmm... interesting... But just to be completely sure, let's bump up the polynomial term even more."
   ]
  },
  {
   "cell_type": "markdown",
   "metadata": {},
   "source": [
    "#### B.) Let's bump the polynomial term way up. Fit and plot a model with only $x$ and $x^{30}$ as input features.\n",
    "* In other words, your model should be:\n",
    "\n",
    "> $\\hat{y} = \\beta_0 + \\beta_1 x + \\beta_{2} x^{30}$\n",
    "\n",
    "* What do you notice? Does bumping the polynomial term way up help the model at all?"
   ]
  },
  {
   "cell_type": "code",
   "execution_count": null,
   "metadata": {},
   "outputs": [],
   "source": []
  },
  {
   "cell_type": "markdown",
   "metadata": {},
   "source": [
    "<strong style=\"color:RoyalBlue\">Expected output:</strong>\n",
    "\n",
    "<img src=\"data:image/png;base64,iVBORw0KGgoAAAANSUhEUgAAAXsAAAD7CAYAAACL+TRnAAAABHNCSVQICAgIfAhkiAAAAAlwSFlzAAALEgAACxIB0t1+/AAAADl0RVh0U29mdHdhcmUAbWF0cGxvdGxpYiB2ZXJzaW9uIDIuMi4zLCBodHRwOi8vbWF0cGxvdGxpYi5vcmcvIxREBQAAIABJREFUeJzt3X2cVGX9//HX7gC7Lqw73qy74M1CBJdrJgkmEkL+VCRMQPva15tuvQmJzBLMR18sM78pX1M0MJFQMjPLLFNBReSXmkhqZf1Mi++lVGDJTWruisIuy+78/tibZmfPmZtzZuacM/N+Ph48HuycmXM+c87MZ67zOde5ropEIoGIiJS2yqADEBGRwlOyFxEpA0r2IiJlQMleRKQMKNmLiJQBJXsRkTKgZC8iUgaU7EVEyoCSvYhIGRgUdAC9urq6Ep2d3u/mjcUq8PP6oCn+4EX9PSj+YAUV/+DBsTeA+kzPC02y7+xM0NKyy/Pr4/EaX68PmuIPXtTfg+IPVlDx19fXbsnmeSrjiIiUASV7EZEyoGQvIlIGlOxFRMqAkr2ISBlQshcRKQOh6XoppWnNxh0sW7+ZHTvbaaitYt6Ukcxobgg6LJGy4yvZG2MmAtdZa09IeXw+cAHwes9DF1lrrZ9tSfSs2biDax97hba9XQBs39nOtY+9AqCEL1JknpO9MeZy4FPAuw6LxwOfttY+73X9En3L1m/uS/S92vZ2sWz9ZiV7kSLz07L/C/Ax4C6HZROA/zLGNAIPW2sX+dhOZJV7CWPHzvacHheRwvGc7K219xljRrosvge4BXgbuN8Yc5q19qF064vFKojHa7yGQyxW6ev1+bbqha1cu+4V2jqSShjrXmFoTRWzxo0Y8PywxZ8rp/iH11WztbVtwHOH11WH8r2W4jGIEsVfWHm/QGuMqQC+Y61t7fn7YeBoIG2yL7Wxca5fa/sSfa+2ji6uX2uZ2hQf8PywxZ8rp/jnTm7qV7MHqB5UydzJTaF8r6V4DKJE8XtTX1+b1fMK0RtnX+AlY0wz3fX8E4HvF2A7oRamEkZQ5aTebZRzKUskLPKW7I0x5wLDrLUrjDELgSeAduCX1tpH8rWdqGiorWK7Q2JvqK0qahxB94iZ0dyg5C4SAr6SvbV2M3Bcz/9/nPT4XThfuC0b86aMdCxhzJsysqhxqEeMiIBuqiqYsJQwwlROEpHgKNnnINfadxhKGGEpJ4lIsJTssxR07TtXvT9MTok+iHKSiARLA6FlKV3tO2x6f5icEn1jbRULTxkTyh8oESkcteyzFKXat9MPE3Qn+tVzJgYQkYgETS37LLnVuMNY+47SD5OIFIeSfZbmTRlJ9aD+uyuste8o/TCJSHEo2WdpRnMDC08ZQ2NtFRWEu/YdpR8mESkO1exzEIaulNnIto9/uY/KKVJOlOxLVKYfpqh1JRURf5Tsy5RbV9IrH7EsW7+5XytfZwAizpK/G8Prqpk7uSm03w0l+zKVrmdOcisf0BmAiIPUs+OtrW2h/m4o2Zcpt2EUeiXfMBbUQGo6o5Awi9ogg+qNU6aceuyk2rGzPbA++8l3ASf49xnFmo07CrpdkWxF7X4WJfsyldyV1E1DbVVgffajNDyFlKeo3c+iZF/GZjQ3sHrORK4+1bj2yw+qz37UWk1SfqJ2P4tq9pJVv/xi1841NLOEXer3Rr1xJBLS9csP4maysMz0JZJO8ncj7BOmK9lLKIVlpi+RUqFkL6EVleEpRKLA1wVaY8xEY8yTDo/PNMb81hjzjDHmc362ISIi/nlu2RtjLgc+Bbyb8vhg4Cbggz3LNhhjVltrt/sJVPJDNyqJlCc/Lfu/AB9zeLwZ2GStfctauwd4GpjiYzuSJ7pRSaR8eW7ZW2vvM8aMdFi0L9Ca9PdOoC7T+mKxCuLxGq/hEItV+np90IoR//INWxxvVFq+YQvnTBrla92Fjn/VC1tZvO5ltrW2MbyumgXTxjJr3Ii8bkOfoWAp/sIqxAXat4HapL9rgZZML+rsTPjqthT2bk+ZFCP+ba1tro/73XYh43cacOqKB17i3V3teS1B6TMULMXvTX19beYnUZg7aDcCY4wx+xtjhgBTgWcKsB3JUdRu7+6loRNE/Mtby94Ycy4wzFq7whgzH1hL94/J9621r+VrO+Iu08XXqN6opKETRPzzleyttZuB43r+/+Okx1cDq31F5kE59zTJZuapqN6opKETRPwrmZuqVr2wtawn2ch2bO0o3qgU1TMSkTApmWS/eN3LkZpIIBu5nKmUSqkj3XuO2hmJSJiUTLJ362kStWTXK9cJwUuh1JHpPYchuZdzqVCirWTGsx9eV+34eJSSXbJce6BEbWxtJ2HvdaOb0iTKSibZL5g2NvLJLlmuZZnkmacqgMbaKhaeMiZSrc6wl6LC/mMkkk7JlHFmjRvBu7vaS+YU20tZJiylDq/CXooK+4+RSDolk+wh+skuWRR6oCTXr/MxS0/Y33PYf4xE0imZMk6pCXtZJrV+vbW1zXf9OuzvuRSui0j5KqmWfRjks7dGmM9Usu3Xn6swv2d1AZUoU7LPo1y7S+a67jAlmXKtX4f5x0gkHZVx8qhQvTXC2OUvqoOqiZQrJfs8KlRrN4xd/lS/FokWlXHyKJfeGqllma9MN0xtijuWa8JYMkmtX2fTG8etFBW2EpVIKapIJBJBxwBAR0dnIuqTl6TW7KG7tZvao8TxeYMr+egRB/Hwn/454PVVgyppbds7YHuNtVWsnjOxQO8mN5n2v9u++ej7nN9zEL1wwvAZ8kPxByvAyUueB47J9DyVcfIo266DjmWZji7u/+N2x3JNIpGIfMnErRTl9p51V6pIfqmMk2fZ9NZwK790uZxk7Wzv5JunmkiXOnJ9z6Xeq0ek2JTsA+BW26+scE5+DbVVke/y5+U9i0j+qIwTAMeeLIMrOeOoxsiXa9y49d4p5fcsEiZq2QfA6U7M3t444w6ui3S5xk3qe66tilFRUcEvXthObVWMqkGDeLttb0m9Z5EwUW+ckAhT/F66QuYSf7a9lootTMfAC8UfrLD3xvHcsjfGVALLgHFAO3ChtXZT0vKlwGRgZ89Ds621rV63J8VRyCEfeuVzXB310RfJjp8yzulAtbV2kjHmOGAxMDtp+XhgurX2DT8BSnHlIxFnSsD5ukmsGD9MIqXCzwXa44FHAay1z5J0GtHT6h8DrDDGbDDGnO8rSikav4k4m3F88jWuThiHkRAJKz8t+32B5LJMpzFmkLV2LzAUuBm4EYgBTxhjfmet/aPbymKxCuLxGs/BxGKVvl6fq1UvbGXxupfZ1trG8LpqFkwby6xxIzyvr9jxuxleV81Wh8nbh9dVp42vN/7lG7Y4JuDlG7ZwzqRRAHxluuGKB1+iraP/HcRfmW6y2ge9+96pKyd0/zB52ZdhOQZeKf5ghT1+P8n+baA26e/KnkQPsAtYYq3dBWCMeZzu2r5rsu/sTPi6uFHMiyOp5YOtrW1c8cBLvLur3XP5ICwXp+ZObnK8eDp3chMtLbtcSzS98W9z+KEA2Nba1vf+pjbFWThtzID1TG2KZ9wHThd3UzXUVnnal2E5Bl4p/mAlx1/Ma0n19bWZn4S/ZL8BmAnc21OzfzFp2VjgHmPMeLpLRccDd/rYVmCcDlq+J+5Ys3EHyzdsYVtrW+AXGdNN0JGuRt7bas92MDivN4k57ftk6qMvQQvrtSQ/yf5+YJox5tdABXCeMWY+sMlau8oYczfwLNAB/NBa+yf/4RaX20FzSzZebvH38sEodKvBLRGn+5HrTfaFnkc23T5uVG8cCYFCzeLml+dkb63tAuamPPy/Scu/DXzb6/rDwO2gud3inwBmrngup4ST6wcjyFZDNhdvCz11n9uZQ6YRQMPcRTPMsUnuwjgkOegO2rTSDd5VPajSsYWfa/LN9YMRZKuh0CWabHg5cyjUD2Q+knRYT/nFu1zmtSgmjY2ThtvB6R26uNFleS7d/3LthhhkqyEMs1NlO4x0MrcfyCsfscxc8Zyn6R3zNVWkuo+WnjB8T5yoZZ9GulZkb+v12MVP4TTgRLbJN9eWapCthkKXaHKJI5dtpjsWTheZs5GvM6ywnvKLd2H5nqRSsk8jm4PmN/n2rivb3jiFvgCaSRSHWnY7Rr1SLzJnI19JOqyn/OJPGL8nSvYZZDpo+Ui+M5obOGfSqKz6GLuNHvmNRyzL1m8ORQsibJyOUapCJelMdf2gf7ylfMSuuuqqoGMAoKsrcVVbW4fn11dXD8bP670aUz+M4XVVbNz+Du/u6aSxtor5J47OOeHmEv+Y+mGcO+EQDtmvmic3vcm7ezoBeGdPJ8/87S2G11Uxpn5Yzu/Fj6D2fzaSj9E7PfsqVWNtFedPHpX1e9ivZjDP/O0t9iZ1y6oeVMn8E0f37fveun5Lz/zBTscnX58fCPcxyIbi92bo0KptwIpMz1PLPg+COmULa3/eMOo9Rm7DK+faks6mxJft8QnjKb+UHiX7CNPFvdzl8+JZpiSt4yNhomQfYbq4502xWtI6PhIm6mcfYWHtzyvddHwkTNSyj7Cw9ueNqlUvbOX6tTZv+1LHR8JEyT7idHEvP9Zs3MG1617pG2M/X8MW6PhIWCjZS0nKddyaZes395tMBdSzSUpLySZ7jSRYvrwMLqaeM1LqSvICbb4GqZJo8jK4WL7mxRUJq5JM9hpJsLx5aaXPmzKS6sHqOSOlK/JlHKdyjU7Jy5uX/u0zmhsYWlOV1944qVRalCBFOtm71Wb3rR5Ea9veAc/XKXl58Dq42KxxI5jaFC9ITJqkRIIW6TKOW7kmkUjoZpYy5mWCk0JTaVGCFumWvVtZZmd7J9881eiUuYzls397PsovKi1K0CKd7NPVZv182VVblV75Kr9onBwJmudkb4ypBJYB44B24EJr7aak5Z8DLgL2At+y1j7kM9YB/E784JTUAdVWpU++hpHWJCUSND8t+9OBamvtJGPMccBiYDaAMaYRuAQ4BqgGnjbGrLPW5vWc1c/YI24ttqpBlRojXvrkq/yicXIkaH6S/fHAowDW2meNMcckLTsW2NCT3NuNMZuAo4Df+tieoxnNDbTbp7n+zkW80dXF1XfA1T3LfvKT+xg5chQ//vFd3HzzTf1e91prGweevYjY0P14+/nV7Pz9wBOP4Z/5DpVD9qH12Z/x2ov/l0l37NNv+TPP/B6A//mfb/Hgg7/ot6ymZii//OV6AK68ciHr1j3Ku3s6adndwd6uBNXD4txy1wPMaG7gssu+zDPPPE1X179/ZA499DDuvfcBAObN+xx/+MPz/dZvTDM/+MHdAHz2s5/A2o39lh999ASWLbsNgLPOOoNXX93Sb/nkyVO54YbvADBz5nTeeOP1fstPPnk6//3fiwA46aQp7Nr1br/ls2efwVe/+nUAJk0aT2VlZb/4zznnk1xyyXzeeecdpk2bSqoLLpjDhRfO5fXXX2fWrOkDln/xi5dy7rmfYsuWzZx99scGLL/88oWcccaZbNz4Z84//5MDll911TVMnz6D55//LRdffNGA5d/+9k1MmfJh1q//FZdffilAv/fw3e9+jwkTPsiQ1/7AXx9ZPuD1zZ/4BgAPPHAf1113zYDl6T57MWDlg49y0EEHcfvty1m5cuAkQ+vWPcWwYcNYuvRGfvKTHw1Y7vTZ643f6bOX7IADDuShhx4D4LLLvsyGDU/1W+73szd+/DHcckv3ezrrrDP4+99fBaCiogKAD31oCtdf371Pzjjjo7z55hvd+yUWo6srwUknTePKK7u/xbNmfYT29jYqKyupqKiksrKSj3zko1x88ZcAOPfcMxk0aBCx2CCGDBnMkCFVnHTSNE4//T/o6OjgO9+5gX32qaG2trbv39ixh9PUNJJEItEvrlLnJ9nvC7Qm/d1pjBlkrd3rsGwnUJduZbFYBfF4jadADjtsBOPHj+87eL0OOmg/4vEampoOZsKECf2WbX9xG8QGd2976H4MaRg9cMUV3T16YrUHUnfIWCYcflC/xb3xjh07esD6q6ur+5Yb815e/OsR/PEfrVQOSzAEoGoo1657haE1VTQ3j6W9fVe/+BsbG/pef8QRh1OZ0m9q5MiRfcuPPPIIhg3rv+8OP/zwvuVHHXUk9fUH9lve3Dy2b/m4cUfR0tKS8voxfcuPPvoDtLW19Vs+ZszovuUTJkygoqKiX/yjR48iHq+hqqpiwL4BGDWqiXi8hkRiX8flTU0HE4/XsHv3fo7LDztsBPF4DQ0N+zsuP/TQRuLxGoYPr3dcfvDBBxGP13DwwQf1LU9+D8OH1xOP1/DpE47gut+/l86k9xarqGDuic3E4zUcdtgIx/Wn++wB1NfXEY/XMGpUk+PyAw6oZZ999mH06FGOy50+e73xp372/vWvCSmvjfctb24eS1tb/x9yP5+9RCJBc7NJWv4+DjzwgH6fjbFjRyfFP4aWlvq+5V1dXRx22MF9yxsbG9i9u/u70dXVRWdnJ8OGVfd8dhK89da/2Lt3Lx0dHezZs4c9e9o5/PDuz/Zbb73F9dcvGrDvvvGNq7jiiq+xbds2xowZzYgRIxgxYgSjRr2H0aNHM3PmLMaNGzfgdZnEYpWec1gxVKQmyGwZY24EnrXW3tvz9z+stYf0/H8W8BFr7byev+8HrrHW/s5tfR0dnYlsJtx2E4/XZDVhd6+ZK55zvGC2b1WMPZ2JAbVVv1333LbXWFvF6jkTc44/bKIeP7i/h6hcsI/6MShE/J2dnezevYt33nmHnTt38vbbrTQ0NHLIIYfyxhtvsGzZUnbs2M7Wra+xefPfeO21f7B06a2cffYn+POf/8SCBZfwoQ8dzz4jx/HE2wfyehuun4Gg9n99fe3zdJfM0/LTst8AzATu7anZv5i07DfANcaYaqAKaAZe8rGtvHO7YHbZSe8F8l9bVde7aIlKgpf0YrEYw4bVMmxYLY2Nw/stO/DAA/vKRb3a2tr6zjJ2797FoEGDWHbrd+nc2wGxwdSM/iAdJ17ItY91Tywepc+En2R/PzDNGPNroAI4zxgzH9hkrV1ljFkKrKf7xq0rrLVtadZVdJkumOX7IKrrXXTobtfyVV1d3ff/CRM+yOrVazn15id5dePv2f2359n1yrNUVtXQtreLG372OMd9cTr77bd/gBFnz3MZJ9+KXcYpttQEAv3LQ2GPP5OntrQUdFyZYug9BplKbsWUyxlG1D9DYY3/2MVP0ZslE4lE37WRbXd8kardb3LhhRfxhS9cQlPTiEDKgMUo40gOSrnrXaFmeQpKWEpuOsMoPqfEnHxW3ttzp6KigsPPWsioV9ewZMli7rnnbm677TYmTpw6YH1hOYaRHhsnamY0N7B6zkR+s2Aqq+dMLJkvbLpZnqIoLGPbazyd4nKbB2Pye/ZzHGvrso//H26//U7Wrn2Curo6Zs48jSeffLzf88J0DJXsxbewtITzZd6UkaEYSM/vfl2zcQczVzzHsYufYuaK5zR5TwZuiXnDX99KO7DeBz4wnnXrnmLJkqVMmfJhgL6LvGH6bqiMI76V2sXnsJTc/OzXMJUPoiJdYs401lZ1dTWf//w8Wlp2sWXLZi6++CKWLr01VN8NtezFt1Kc5SkMJTc/ZxhhKh9ERb7Kdy0tb/HKK5bTTjuF00a0heIsEZTsJQ9mNDdwzewjQzV+fCnwMy5/mMoHUZGv8t24cUezatVaBg0axC0L5zBvQl0ovhtlUcbRDTKFV8hZnqImm89btp9Jr0N1h6l8EBX5LN+NHWu4++6fcdpp07jr2ku5//6HqaoKdt+XfLJX7VKKKZvPWzE+kxpS2Zt8Tnpz5JHvZ8mSZfzgByvZvXvXgGRf7EZoyZdxVLuUYsrm81aMz2QYp2YsR7Nnf4z77ltNPL5fv8fdunkWssdUybfss61dqtQj+ZDN581rPT3Xz2g+W6niXWVlJX//+6t885tf55prrqOhoTFvk+LkouSTvVvtMkH3SJSanUryKZtauZd6usqR4bfqha2uQ4Z0dHTw6KMPM3jwYG699fZALqCXfBnH6Qp7r94vzOLH/6JSj+RFNj06vPT6UDky3NZs3MEVD77kWpZ5z3tGc/HFX+K+++7lmWc2BHKXdskn++TapZO2vV20tu11XKZuapKrbGrlXurp6koZbtkMGXLJJQs49NDD+OpXL+OiSYcUvf99yZdx4N+1y+TR67KhbmriRTa18lzr6epKGR5O106y+TGuqanh6qsXcd55n2DHbx5m4Smzi3qdsCySfS+3L4zb7FTqphYtpXyRXV0pw8Ht2sm+1YMcKwSpP8annnoaixbdwJln/id1dfGifj5LvoyTzK1WetlJ71U3tYgLoitbMakrZTi4XTtJJBJZDRlSUVHBBRfMoa6u+DcgllXLvtizU0nxBNGVrdjKvStlGM7c3Mo1O9s7ueHMo7KewOepp57knnvu5pZbVvSNkV9oZZXsQV+YUqULmNGTmry/Mt24DrkRlq6n6a6d5DJkyPbt2/j5z3/KmWeexYknnpzvMB2VVRlHSldYJhyR7DiV3a548CXXsltYup7ma7C000//DxoaGlm+/Lt5jC49JXspCWGZcESy45i8O9yTd1jO3PJ17WTIkCFccMEcnnzycTZu/HNhgk3hqYxjjNkH+BFwELAT+Iy19vWU56wCDgA6gN3W2hk+YxVxFZYJRyQ7uSbvMHU9zVcp+NOfPo+bbrqe22//HosXL8lDZOl5rdl/HnjRWnuVMeZs4GvAl1Ke817gfdbaXLq2i3im6zHRkc0wJsnHshS7nu6//wHcccfdjB8/oSjb81rGOR54tOf/a4B+VxiMMQ1AHFhtjHnaGHOa9xBFpNRkM4xJcv2+VLuennjiyQNGxCyUit6Jcd0YYy4ALk15eAdwsbV2ozGmEnjVWntI0msOBf4TWALsD2wAJltr/+m2na6urkRnp/eTgFisks7OrsxPDCnFH4xVL2xl8bqX2dbaxvB4NQtOHsuscSOCDsuTII9Bv/1YV82CaZn3Y+9rtra2OS4fUVfNry47oQDRFkZQ+3/w4NjzwDGZnpexjGOtXQmsTH7MGPMLoLbnz1qgJeVl24Hl1tq9wD+NMX8ADOCa7Ds7E7S07MoUjqt4vMbX64Om+IsvtTvf1pY2rnjgJd7d1R7JFmNQx2DAfmzNbj9ObYoz9cJjXYcx2dbaFqnPVFD7v76+NvOT8F7G2QCc2vP/GcD6lOUnA/cCGGOGAUcCGz1uS6QgwtKdL+r87kd1my0OrxdobwXuNMY8DewBzgUwxnwb+Lm1do0xZrox5lmgC1horX0jLxGL5ElYuvP5FfSdpX73YylefA0jT8neWrsL+LjD45cn/f/LPuISKbgwdefzKgx3lvrdj71xLt+whW2tbeo2WyBlN1yCSK9SaFF6GRMo32cC+diPM5obOGfSqEjV6KNGyV7KVuqNWMPrqpk7uSnQFmWuiTjXOZZTW+C5ngmki083tIWbkr2UteQbsYLuUeSlJJNNCSV1vana9nZx5SOWZes3p03SmeJTcg83jY0jEhJeerVkMyaQ03qdZJoDQL2Xok0te5GQ8NKrJZsSSi69i9LV+6PWeynoXkpho2QvEhJee7X0llDcylBu63UThcHIMglDL6WwURlHJCQKNUxzunFonLgl7ygNI62S00Bq2YuERKF6tbitF8ipy2SUet1EreRUDEr2IiFSqF4t6dabS/KOSq+bKJWcikXJXqSMRSV556oUbpjLNyV7ESk5USo5FYuSvYiUpFI9a/FKvXFERMqAWvYiUlC6uSkclOxFpGDCfnNTOf0QqYwjIgUT5puben+Itu9sJ0HmsYGiTi17ESkYvzc35avl7bQeL3MBRJmSvYgUjJ+bm/JVAnJbj9tIoKV6l63KOCLiyZqNO5i54jmOXfwUM1c851j+8DOeTr5KQG7rqaxwfn6p3mWrlr2I5CzbVrefm5vyNb6N2/O7Et0/PMW8yzbIC8JK9iJ5UE69OiC3uW+93tyUr/Ft3NbTmFS7L8ZxC7pnkq9kb4w5A/i4tfZch2WfAy4C9gLfstY+5GdbImEV9Jc4CMUYVTJf49ukW08x77IN+oKw55q9MWYJsMhpHcaYRuASYDIwHVhkjCnNQpiUvTB3LywUt9Z1PuvdM5obWHjKGBprq6iguyW+8JQxOSfGfK3Hr6CHXfbTsv818ADdrfdUxwIbrLXtQLsxZhNwFPBbH9sTCaWgv8RB8NrqzrXcla+Wd/J6emP4xiO2qCW3oIddzpjsjTEXAJemPHyetfanxpgTXF62L9Ca9PdOoC7ddmKxCuLxmkzhpHl9pa/XB03xB8/rexheV83W1jbHx4u5T4p5DM6ZNIqhNVUsXvcy21rbGF5XzYJpY5k1boTra1a9sJVr171CW0dSuWvdKwytqWLWuBFFiT9TDH5kiv8r0w1XPPhS37YBqgdX8pXppijHLWOyt9auBFbmuN63gdqkv2uBlnQv6OxMOM6fmS23+TejQvEHz+t7mDu5ybGVO3dyU1H3SbGPwdSmOFMvPLbfY+m2f/1a2y/RAbR1dHH9WsvUpnhf/IW82J0pBj8y7f+pTXEWThsz4L1NbYr7Om719bWZn0TheuP8BrjGGFMNVAHNwEsF2pZIoEp97PR8Jd9syl2FvtgddMktyGGX85rsjTHzgU3W2lXGmKXAerov4F5hrR14nitSIkp17PR8Jt9sataF7rGSS9281LrT+kr21tongSeT/r4x6f+3Abf5Wb+IFE+hx4/J5qJuoVve2V5YLsXutLqpSiSCnBLzOZNG+VpfocePyabcVegeK9mW3ILuE18ISvYiEeOWmIfWVHm+yJhu/JiuxMDne02+mcpdxZgoPJuSW9C1/ULQQGgiEeOWmBeve9nzOjONH5OskOPHhOUGqGLcNFZsatmLRIxbYt7m0Nc/W2EZPwaya3kX+uJpMc4wik3JXiRi3BLz8Lpqz+sMy/gx2SjGxdNS7E6rZC8SMW6JecG0sZ7XGaXk5lbGuvIRy7L1m/MWd9h+5PxSsheJGLfEPGvcCF93YkYluaW7SFoKXSQLRcleJIKikpgLwa2M1SvqXSQLRb1xRCRSnKY6TBXlLpIyXeXZAAAHDklEQVSFopa9iERKchnLrYUf5S6ShaKWvYhEzozmBlbPmcjVpxrHVv72ne2uk6CXK7XsRSSy0rXydbG2P7XsRSTSelv5jQ6lm1KfHjIXSvYiUhJKcTybfFKyF5GSUIrj2eSTkr2IlASnLplRH88mn3SBVkRKQpSGfAiCkr2IlIxyvrM4E5VxRETKgJK9iEgZ8FXGMcacAXzcWnuuw7KlwGRgZ89Ds621rX62JyIi3nhO9saYJcB04P+5PGU8MN1a+4bXbYiISH74KeP8Gvi80wJjTCUwBlhhjNlgjDnfx3ZERMSnjC17Y8wFwKUpD59nrf2pMeYEl5cNBW4GbgRiwBPGmN9Za//otp1YrIJ4vCa7qB1fX+nr9UFT/MGL+ntQ/MEKe/wZk721diWwMsf17gKWWGt3ARhjHgfGAa7JvrMz4WuWnXi8xtfrg6b4gxf196D4gxVU/PX1tVk9r1D97McC9xhjxtNdKjoeuLNA2xKRkFmzcYdubgqZvCZ7Y8x8YJO1dpUx5m7gWaAD+KG19k/53JaIhNOajTv6TYiuoYbDoSKRSAQdAwAdHZ0JlXEUf5Ci/h7yGb+flvnMFc85ziDVWFvF6jkTXV+n/e9NfX3t88AxmZ6n4RJEpB+/LXMNNRxOuoNWRPpZtn5zX6LvlcskIBpqOJyU7EWkH78tcw01HE4q44hIPw21VY4192xb5hpqOJyU7EWkn3lTRvar2UPuLXMNNRw+SvYi0o9a5qVJyV5EBlDLvPToAq2ISBlQshcRKQNK9iIiZUDJXkSkDCjZi4iUASV7EZEyoGQvIlIGlOxFRMqAkr2ISBlQshcRKQMaLkGkhGjuV3GjZC9SIla9sFVzv4orlXFESsTidS/7mmFKSpunlr0xpg74EbAvMASYb619JuU5nwMuAvYC37LWPuQzVhFJY1trm+PjmvtVwHvLfj7wS2vth4HPArckLzTGNAKXAJOB6cAiY4wmoBQpoOF11Y6Pa+5XAe/J/ibgez3/HwSkNimOBTZYa9utta3AJuAoj9sSkSwsmDZWc7+Kq4xlHGPMBcClKQ+fZ639bU8L/kfAl1OW7wu0Jv29E6jzE6iIpDdr3Aje3dWu3jjiKGOyt9auBFamPm6MeT9wD3CZtfZXKYvfBmqT/q4FWtJtJxarIB6vyRiw++srfb0+aIo/eFF/D7FYJedMGsU5k0YFHYonpbD/wxy/1wu0RwA/A86y1r7g8JTfANcYY6qBKqAZeCndOjs7E7S07PISDgDxeI2v1wdN8Qcv6u9B8QcrqPjr62szPwnv/ewXAdXAEmMMQKu1drYxZj6wyVq7yhizFFhP93WBK6y1zl0FRESk4Dwle2vtbJfHb0z6/23AbR7jEhGRPNJNVSIiZUDJXkSkDCjZi4iUgYpEIhF0DL1eB7YEHYSISMQ0AfWZnhSmZC8iIgWiMo6ISBlQshcRKQNK9iIiZUDJXkSkDCjZi4iUgUjPQWuMqQSWAeOAduBCa+2mYKPKnTFmInCdtfaEoGPJlTFmMPB9YCTdg959y1q7KtCgcmCMidE9rIcBOukevvsvwUaVO2PMQcDzwDRr7f8GHU+ujDF/4N/Dov/NWntekPHkyhjzX8AsumfuW9YzWnCoRL1lfzpQba2dBHwVWBxwPDkzxlwO3E73wHJR9EngTWvtFGAG8N2A48nVTABr7WTgSuDG9E8Pn54f3O8Bu4OOxYue0XGx1p7Q8y9qif4E4EN0z8z3YeDQQANyEfVkfzzwKIC19lngmGDD8eQvwMeCDsKHnwFfT/p7b1CBeGGtfQCY0/NnE7AjwHC8ugFYDmwNOhCPxgE1xpjHjDGPG2OOCzqgHE0HXgTuB1YDoZxvO+rJPnVGrE5jTKRKU9ba+4COoOPwylr7jrV2pzGmFvg58LWgY8qVtXavMeZO4Ga630NkGGM+C7xurV0bdCw+7KL7B2s6MBe4O2Lf4wPpbmh+nH/HXxFsSANFPdmnzohVaa2NVMuyFBhjDgWeAO6y1v446Hi8sNZ+BhgL3GaMGRp0PDk4H5hmjHkS+ADww57pQqPkZeBH1tqEtfZl4E1geMAx5eJNYK21do+11tI9J3fG4QuKLUq/nk420F1zvbfn1O/FgOMpO8aYBuAx4GJr7S+DjidXxphPAYdYaxfR3cLsovtCbSRYa6f2/r8n4c+11m4PLiJPzgfeD8wzxoyg+4x9W7Ah5eRp4EvGmBvp/pEaSvcPQKhEPdnfT3er5tdABRCpCzslYiGwH/B1Y0xv7X6GtTYqFwt/AdxhjHkKGAx8WbOqFd1K4AfGmKeBBHB+lM7QrbUPGWOm0j0dayXwBWtt6BoMGghNRKQMRL1mLyIiWVCyFxEpA0r2IiJlQMleRKQMKNmLiJQBJXsRkTKgZC8iUgaU7EVEysD/B1TKIKN3svCaAAAAAElFTkSuQmCC&#10;\">"
   ]
  },
  {
   "cell_type": "markdown",
   "metadata": {},
   "source": [
    "As it turns out, what's really going on is that adding higher and higher polynomial terms does not increase the model complexity/flexibility by itself. This is a very important concept to take away. When we say \"model complexity,\" we are NOT talking about how \"fancy\" the input features are. Instead, at least within the scope of one family of models (e.g. linear or polynomial regressions) we are talking about:\n",
    "1. The **number** of model parameters and...\n",
    "2. Their **effectiveness** in expressing relationships within your dataset.\n",
    "\n",
    "Let's break that down, starting with the first factor.\n",
    "\n",
    "#### Complexity Factor \\#1 - The Number of Model Parameters\n",
    "\n",
    "The reason that\n",
    "\n",
    "> $\\hat{y} = \\beta_0 + \\beta_1 x + \\beta_2 x^2 + \\beta_3 x^3$\n",
    "\n",
    "performed better than\n",
    "\n",
    "> $\\hat{y} = \\beta_0 + \\beta_1 x + \\beta_2 x^3$\n",
    "\n",
    "or\n",
    "\n",
    "> $\\hat{y} = \\beta_0 + \\beta_1 x + \\beta_2 x^{30}$\n",
    "\n",
    "is not due to the $x^2$ polynomial term per se, but rather the fact that it allows *one additional model parameter* $\\beta_3$, even though the $x^2$ and $x^3$ terms are actually meaningless from a real-world standpoint.\n",
    "\n",
    "For example, imagine a real-world dataset where $x$ represents time of day and $y$ represents the foot traffic of various local shops...\n",
    "\n",
    "In that case, $x^2$ would be the \"square of the time of day,\" which is pretty meaningless. You've probably had many people ask you \"hey, do you know what time it is?\" But how many people have ever asked you \"hey, do you know the square of the time right now?\"\n",
    "\n",
    "However, as it turns out, $x^2$ is not so meaningless from our model's perspective because it allows our model to express the underlying $x$ vs. $y$ relationship with one additional model parameter.\n",
    "\n",
    "To illustrate this point, let's fit another model with 2 non-sequential polynomial terms.\n",
    "\n",
    "#### C.) Fit and plot a model with $x$, $x^3$, and $x^5$ as input features.\n",
    "* In other words, your model should be:\n",
    "\n",
    "> $\\hat{y} = \\beta_0 + \\beta_1 x + \\beta_2 x^3 + \\beta_3 x^5$\n",
    "\n",
    "* What do you notice?"
   ]
  },
  {
   "cell_type": "code",
   "execution_count": null,
   "metadata": {
    "scrolled": true
   },
   "outputs": [],
   "source": []
  },
  {
   "cell_type": "markdown",
   "metadata": {},
   "source": [
    "<strong style=\"color:RoyalBlue\">Expected output:</strong>\n",
    "\n",
    "<img src=\"data:image/png;base64,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&#10;\">"
   ]
  },
  {
   "cell_type": "markdown",
   "metadata": {},
   "source": [
    "Let's explore the other complexity factor in the next exercise."
   ]
  },
  {
   "cell_type": "markdown",
   "metadata": {},
   "source": [
    "## <span style=\"color:RoyalBlue\">Exercise 3.3 - Bigger, but Not Better</span>\n",
    "\n",
    "In addition to the **quantity** of model parameters, we also need to consider the **quality** of those parameters. In other words, do those parameters actually contribute anything meaningful for dealing with this particular dataset?\n",
    "\n",
    "#### Complexity Factor \\#2 - Model Parameter Effectiveness\n",
    "\n",
    "From the previous exercise, remember how:\n",
    "\n",
    "> $\\hat{y} = \\beta_0 + \\beta_1 x + \\beta_2 x^3 + \\beta_3 x^5$\n",
    "\n",
    "performed quite well because of the additional model parameter $\\beta_3$? Well, what happens if we try to turn $\\beta_3 x^5$ all the way up to $\\beta_3 x^{30}$? Do you think the model would be better or worse?\n",
    "\n",
    "\n",
    "#### A.) Fit and plot a model with $x$, $x^3$, and $x^{30}$ as input features.\n",
    "* In other words, your model should be:\n",
    "\n",
    "> $\\hat{y} = \\beta_0 + \\beta_1 x + \\beta_2 x^3 + \\beta_3 x^{30}$\n",
    "\n",
    "* This time, save your fitted model into an <code>lm</code> object. We'll be using it later. Hint: <code>lm = fit_and_plot_model(df_copy, LinearRegression())</code>\n",
    "* What do you notice?"
   ]
  },
  {
   "cell_type": "code",
   "execution_count": null,
   "metadata": {},
   "outputs": [],
   "source": []
  },
  {
   "cell_type": "markdown",
   "metadata": {},
   "source": [
    "<strong style=\"color:RoyalBlue\">Expected output:</strong>\n",
    "\n",
    "<img src=\"data:image/png;base64,iVBORw0KGgoAAAANSUhEUgAAAXsAAAD7CAYAAACL+TRnAAAABHNCSVQICAgIfAhkiAAAAAlwSFlzAAALEgAACxIB0t1+/AAAADl0RVh0U29mdHdhcmUAbWF0cGxvdGxpYiB2ZXJzaW9uIDIuMi4zLCBodHRwOi8vbWF0cGxvdGxpYi5vcmcvIxREBQAAIABJREFUeJzt3X2cVGX9//HX7gC7Lqw73qy74M1CBJdrJgkmEkL+VCRMQPva15tuvQmJzBLMR18sM78pX1M0MJFQMjPLLFNBReSXmkhqZf1Mi++lVGDJTWruisIuy+78/tibZmfPmZtzZuacM/N+Ph48HuycmXM+c87MZ67zOde5ropEIoGIiJS2yqADEBGRwlOyFxEpA0r2IiJlQMleRKQMKNmLiJQBJXsRkTKgZC8iUgaU7EVEyoCSvYhIGRgUdAC9urq6Ep2d3u/mjcUq8PP6oCn+4EX9PSj+YAUV/+DBsTeA+kzPC02y7+xM0NKyy/Pr4/EaX68PmuIPXtTfg+IPVlDx19fXbsnmeSrjiIiUASV7EZEyoGQvIlIGlOxFRMqAkr2ISBlQshcRKQOh6XoppWnNxh0sW7+ZHTvbaaitYt6Ukcxobgg6LJGy4yvZG2MmAtdZa09IeXw+cAHwes9DF1lrrZ9tSfSs2biDax97hba9XQBs39nOtY+9AqCEL1JknpO9MeZy4FPAuw6LxwOfttY+73X9En3L1m/uS/S92vZ2sWz9ZiV7kSLz07L/C/Ax4C6HZROA/zLGNAIPW2sX+dhOZJV7CWPHzvacHheRwvGc7K219xljRrosvge4BXgbuN8Yc5q19qF064vFKojHa7yGQyxW6ev1+bbqha1cu+4V2jqSShjrXmFoTRWzxo0Y8PywxZ8rp/iH11WztbVtwHOH11WH8r2W4jGIEsVfWHm/QGuMqQC+Y61t7fn7YeBoIG2yL7Wxca5fa/sSfa+2ji6uX2uZ2hQf8PywxZ8rp/jnTm7qV7MHqB5UydzJTaF8r6V4DKJE8XtTX1+b1fMK0RtnX+AlY0wz3fX8E4HvF2A7oRamEkZQ5aTebZRzKUskLPKW7I0x5wLDrLUrjDELgSeAduCX1tpH8rWdqGiorWK7Q2JvqK0qahxB94iZ0dyg5C4SAr6SvbV2M3Bcz/9/nPT4XThfuC0b86aMdCxhzJsysqhxqEeMiIBuqiqYsJQwwlROEpHgKNnnINfadxhKGGEpJ4lIsJTssxR07TtXvT9MTok+iHKSiARLA6FlKV3tO2x6f5icEn1jbRULTxkTyh8oESkcteyzFKXat9MPE3Qn+tVzJgYQkYgETS37LLnVuMNY+47SD5OIFIeSfZbmTRlJ9aD+uyuste8o/TCJSHEo2WdpRnMDC08ZQ2NtFRWEu/YdpR8mESkO1exzEIaulNnIto9/uY/KKVJOlOxLVKYfpqh1JRURf5Tsy5RbV9IrH7EsW7+5XytfZwAizpK/G8Prqpk7uSm03w0l+zKVrmdOcisf0BmAiIPUs+OtrW2h/m4o2Zcpt2EUeiXfMBbUQGo6o5Awi9ogg+qNU6aceuyk2rGzPbA++8l3ASf49xnFmo07CrpdkWxF7X4WJfsyldyV1E1DbVVgffajNDyFlKeo3c+iZF/GZjQ3sHrORK4+1bj2yw+qz37UWk1SfqJ2P4tq9pJVv/xi1841NLOEXer3Rr1xJBLS9csP4maysMz0JZJO8ncj7BOmK9lLKIVlpi+RUqFkL6EVleEpRKLA1wVaY8xEY8yTDo/PNMb81hjzjDHmc362ISIi/nlu2RtjLgc+Bbyb8vhg4Cbggz3LNhhjVltrt/sJVPJDNyqJlCc/Lfu/AB9zeLwZ2GStfctauwd4GpjiYzuSJ7pRSaR8eW7ZW2vvM8aMdFi0L9Ca9PdOoC7T+mKxCuLxGq/hEItV+np90IoR//INWxxvVFq+YQvnTBrla92Fjn/VC1tZvO5ltrW2MbyumgXTxjJr3Ii8bkOfoWAp/sIqxAXat4HapL9rgZZML+rsTPjqthT2bk+ZFCP+ba1tro/73XYh43cacOqKB17i3V3teS1B6TMULMXvTX19beYnUZg7aDcCY4wx+xtjhgBTgWcKsB3JUdRu7+6loRNE/Mtby94Ycy4wzFq7whgzH1hL94/J9621r+VrO+Iu08XXqN6opKETRPzzleyttZuB43r+/+Okx1cDq31F5kE59zTJZuapqN6opKETRPwrmZuqVr2wtawn2ch2bO0o3qgU1TMSkTApmWS/eN3LkZpIIBu5nKmUSqkj3XuO2hmJSJiUTLJ362kStWTXK9cJwUuh1JHpPYchuZdzqVCirWTGsx9eV+34eJSSXbJce6BEbWxtJ2HvdaOb0iTKSibZL5g2NvLJLlmuZZnkmacqgMbaKhaeMiZSrc6wl6LC/mMkkk7JlHFmjRvBu7vaS+YU20tZJiylDq/CXooK+4+RSDolk+wh+skuWRR6oCTXr/MxS0/Y33PYf4xE0imZMk6pCXtZJrV+vbW1zXf9OuzvuRSui0j5KqmWfRjks7dGmM9Usu3Xn6swv2d1AZUoU7LPo1y7S+a67jAlmXKtX4f5x0gkHZVx8qhQvTXC2OUvqoOqiZQrJfs8KlRrN4xd/lS/FokWlXHyKJfeGqllma9MN0xtijuWa8JYMkmtX2fTG8etFBW2EpVIKapIJBJBxwBAR0dnIuqTl6TW7KG7tZvao8TxeYMr+egRB/Hwn/454PVVgyppbds7YHuNtVWsnjOxQO8mN5n2v9u++ej7nN9zEL1wwvAZ8kPxByvAyUueB47J9DyVcfIo266DjmWZji7u/+N2x3JNIpGIfMnErRTl9p51V6pIfqmMk2fZ9NZwK790uZxk7Wzv5JunmkiXOnJ9z6Xeq0ek2JTsA+BW26+scE5+DbVVke/y5+U9i0j+qIwTAMeeLIMrOeOoxsiXa9y49d4p5fcsEiZq2QfA6U7M3t444w6ui3S5xk3qe66tilFRUcEvXthObVWMqkGDeLttb0m9Z5EwUW+ckAhT/F66QuYSf7a9lootTMfAC8UfrLD3xvHcsjfGVALLgHFAO3ChtXZT0vKlwGRgZ89Ds621rV63J8VRyCEfeuVzXB310RfJjp8yzulAtbV2kjHmOGAxMDtp+XhgurX2DT8BSnHlIxFnSsD5ukmsGD9MIqXCzwXa44FHAay1z5J0GtHT6h8DrDDGbDDGnO8rSikav4k4m3F88jWuThiHkRAJKz8t+32B5LJMpzFmkLV2LzAUuBm4EYgBTxhjfmet/aPbymKxCuLxGs/BxGKVvl6fq1UvbGXxupfZ1trG8LpqFkwby6xxIzyvr9jxuxleV81Wh8nbh9dVp42vN/7lG7Y4JuDlG7ZwzqRRAHxluuGKB1+iraP/HcRfmW6y2ge9+96pKyd0/zB52ZdhOQZeKf5ghT1+P8n+baA26e/KnkQPsAtYYq3dBWCMeZzu2r5rsu/sTPi6uFHMiyOp5YOtrW1c8cBLvLur3XP5ICwXp+ZObnK8eDp3chMtLbtcSzS98W9z+KEA2Nba1vf+pjbFWThtzID1TG2KZ9wHThd3UzXUVnnal2E5Bl4p/mAlx1/Ma0n19bWZn4S/ZL8BmAnc21OzfzFp2VjgHmPMeLpLRccDd/rYVmCcDlq+J+5Ys3EHyzdsYVtrW+AXGdNN0JGuRt7bas92MDivN4k57ftk6qMvQQvrtSQ/yf5+YJox5tdABXCeMWY+sMlau8oYczfwLNAB/NBa+yf/4RaX20FzSzZebvH38sEodKvBLRGn+5HrTfaFnkc23T5uVG8cCYFCzeLml+dkb63tAuamPPy/Scu/DXzb6/rDwO2gud3inwBmrngup4ST6wcjyFZDNhdvCz11n9uZQ6YRQMPcRTPMsUnuwjgkOegO2rTSDd5VPajSsYWfa/LN9YMRZKuh0CWabHg5cyjUD2Q+knRYT/nFu1zmtSgmjY2ThtvB6R26uNFleS7d/3LthhhkqyEMs1NlO4x0MrcfyCsfscxc8Zyn6R3zNVWkuo+WnjB8T5yoZZ9GulZkb+v12MVP4TTgRLbJN9eWapCthkKXaHKJI5dtpjsWTheZs5GvM6ywnvKLd2H5nqRSsk8jm4PmN/n2rivb3jiFvgCaSRSHWnY7Rr1SLzJnI19JOqyn/OJPGL8nSvYZZDpo+Ui+M5obOGfSqKz6GLuNHvmNRyzL1m8ORQsibJyOUapCJelMdf2gf7ylfMSuuuqqoGMAoKsrcVVbW4fn11dXD8bP670aUz+M4XVVbNz+Du/u6aSxtor5J47OOeHmEv+Y+mGcO+EQDtmvmic3vcm7ezoBeGdPJ8/87S2G11Uxpn5Yzu/Fj6D2fzaSj9E7PfsqVWNtFedPHpX1e9ivZjDP/O0t9iZ1y6oeVMn8E0f37fveun5Lz/zBTscnX58fCPcxyIbi92bo0KptwIpMz1PLPg+COmULa3/eMOo9Rm7DK+faks6mxJft8QnjKb+UHiX7CNPFvdzl8+JZpiSt4yNhomQfYbq4502xWtI6PhIm6mcfYWHtzyvddHwkTNSyj7Cw9ueNqlUvbOX6tTZv+1LHR8JEyT7idHEvP9Zs3MG1617pG2M/X8MW6PhIWCjZS0nKddyaZes395tMBdSzSUpLySZ7jSRYvrwMLqaeM1LqSvICbb4GqZJo8jK4WL7mxRUJq5JM9hpJsLx5aaXPmzKS6sHqOSOlK/JlHKdyjU7Jy5uX/u0zmhsYWlOV1944qVRalCBFOtm71Wb3rR5Ea9veAc/XKXl58Dq42KxxI5jaFC9ITJqkRIIW6TKOW7kmkUjoZpYy5mWCk0JTaVGCFumWvVtZZmd7J9881eiUuYzls397PsovKi1K0CKd7NPVZv182VVblV75Kr9onBwJmudkb4ypBJYB44B24EJr7aak5Z8DLgL2At+y1j7kM9YB/E784JTUAdVWpU++hpHWJCUSND8t+9OBamvtJGPMccBiYDaAMaYRuAQ4BqgGnjbGrLPW5vWc1c/YI24ttqpBlRojXvrkq/yicXIkaH6S/fHAowDW2meNMcckLTsW2NCT3NuNMZuAo4Df+tieoxnNDbTbp7n+zkW80dXF1XfA1T3LfvKT+xg5chQ//vFd3HzzTf1e91prGweevYjY0P14+/nV7Pz9wBOP4Z/5DpVD9qH12Z/x2ov/l0l37NNv+TPP/B6A//mfb/Hgg7/ot6ymZii//OV6AK68ciHr1j3Ku3s6adndwd6uBNXD4txy1wPMaG7gssu+zDPPPE1X179/ZA499DDuvfcBAObN+xx/+MPz/dZvTDM/+MHdAHz2s5/A2o39lh999ASWLbsNgLPOOoNXX93Sb/nkyVO54YbvADBz5nTeeOP1fstPPnk6//3fiwA46aQp7Nr1br/ls2efwVe/+nUAJk0aT2VlZb/4zznnk1xyyXzeeecdpk2bSqoLLpjDhRfO5fXXX2fWrOkDln/xi5dy7rmfYsuWzZx99scGLL/88oWcccaZbNz4Z84//5MDll911TVMnz6D55//LRdffNGA5d/+9k1MmfJh1q//FZdffilAv/fw3e9+jwkTPsiQ1/7AXx9ZPuD1zZ/4BgAPPHAf1113zYDl6T57MWDlg49y0EEHcfvty1m5cuAkQ+vWPcWwYcNYuvRGfvKTHw1Y7vTZ643f6bOX7IADDuShhx4D4LLLvsyGDU/1W+73szd+/DHcckv3ezrrrDP4+99fBaCiogKAD31oCtdf371Pzjjjo7z55hvd+yUWo6srwUknTePKK7u/xbNmfYT29jYqKyupqKiksrKSj3zko1x88ZcAOPfcMxk0aBCx2CCGDBnMkCFVnHTSNE4//T/o6OjgO9+5gX32qaG2trbv39ixh9PUNJJEItEvrlLnJ9nvC7Qm/d1pjBlkrd3rsGwnUJduZbFYBfF4jadADjtsBOPHj+87eL0OOmg/4vEampoOZsKECf2WbX9xG8QGd2976H4MaRg9cMUV3T16YrUHUnfIWCYcflC/xb3xjh07esD6q6ur+5Yb815e/OsR/PEfrVQOSzAEoGoo1657haE1VTQ3j6W9fVe/+BsbG/pef8QRh1OZ0m9q5MiRfcuPPPIIhg3rv+8OP/zwvuVHHXUk9fUH9lve3Dy2b/m4cUfR0tKS8voxfcuPPvoDtLW19Vs+ZszovuUTJkygoqKiX/yjR48iHq+hqqpiwL4BGDWqiXi8hkRiX8flTU0HE4/XsHv3fo7LDztsBPF4DQ0N+zsuP/TQRuLxGoYPr3dcfvDBBxGP13DwwQf1LU9+D8OH1xOP1/DpE47gut+/l86k9xarqGDuic3E4zUcdtgIx/Wn++wB1NfXEY/XMGpUk+PyAw6oZZ999mH06FGOy50+e73xp372/vWvCSmvjfctb24eS1tb/x9yP5+9RCJBc7NJWv4+DjzwgH6fjbFjRyfFP4aWlvq+5V1dXRx22MF9yxsbG9i9u/u70dXVRWdnJ8OGVfd8dhK89da/2Lt3Lx0dHezZs4c9e9o5/PDuz/Zbb73F9dcvGrDvvvGNq7jiiq+xbds2xowZzYgRIxgxYgSjRr2H0aNHM3PmLMaNGzfgdZnEYpWec1gxVKQmyGwZY24EnrXW3tvz9z+stYf0/H8W8BFr7byev+8HrrHW/s5tfR0dnYlsJtx2E4/XZDVhd6+ZK55zvGC2b1WMPZ2JAbVVv1333LbXWFvF6jkTc44/bKIeP7i/h6hcsI/6MShE/J2dnezevYt33nmHnTt38vbbrTQ0NHLIIYfyxhtvsGzZUnbs2M7Wra+xefPfeO21f7B06a2cffYn+POf/8SCBZfwoQ8dzz4jx/HE2wfyehuun4Gg9n99fe3zdJfM0/LTst8AzATu7anZv5i07DfANcaYaqAKaAZe8rGtvHO7YHbZSe8F8l9bVde7aIlKgpf0YrEYw4bVMmxYLY2Nw/stO/DAA/vKRb3a2tr6zjJ2797FoEGDWHbrd+nc2wGxwdSM/iAdJ17ItY91Tywepc+En2R/PzDNGPNroAI4zxgzH9hkrV1ljFkKrKf7xq0rrLVtadZVdJkumOX7IKrrXXTobtfyVV1d3ff/CRM+yOrVazn15id5dePv2f2359n1yrNUVtXQtreLG372OMd9cTr77bd/gBFnz3MZJ9+KXcYpttQEAv3LQ2GPP5OntrQUdFyZYug9BplKbsWUyxlG1D9DYY3/2MVP0ZslE4lE37WRbXd8kardb3LhhRfxhS9cQlPTiEDKgMUo40gOSrnrXaFmeQpKWEpuOsMoPqfEnHxW3ttzp6KigsPPWsioV9ewZMli7rnnbm677TYmTpw6YH1hOYaRHhsnamY0N7B6zkR+s2Aqq+dMLJkvbLpZnqIoLGPbazyd4nKbB2Pye/ZzHGvrso//H26//U7Wrn2Curo6Zs48jSeffLzf88J0DJXsxbewtITzZd6UkaEYSM/vfl2zcQczVzzHsYufYuaK5zR5TwZuiXnDX99KO7DeBz4wnnXrnmLJkqVMmfJhgL6LvGH6bqiMI76V2sXnsJTc/OzXMJUPoiJdYs401lZ1dTWf//w8Wlp2sWXLZi6++CKWLr01VN8NtezFt1Kc5SkMJTc/ZxhhKh9ERb7Kdy0tb/HKK5bTTjuF00a0heIsEZTsJQ9mNDdwzewjQzV+fCnwMy5/mMoHUZGv8t24cUezatVaBg0axC0L5zBvQl0ovhtlUcbRDTKFV8hZnqImm89btp9Jr0N1h6l8EBX5LN+NHWu4++6fcdpp07jr2ku5//6HqaoKdt+XfLJX7VKKKZvPWzE+kxpS2Zt8Tnpz5JHvZ8mSZfzgByvZvXvXgGRf7EZoyZdxVLuUYsrm81aMz2QYp2YsR7Nnf4z77ltNPL5fv8fdunkWssdUybfss61dqtQj+ZDN581rPT3Xz2g+W6niXWVlJX//+6t885tf55prrqOhoTFvk+LkouSTvVvtMkH3SJSanUryKZtauZd6usqR4bfqha2uQ4Z0dHTw6KMPM3jwYG699fZALqCXfBnH6Qp7r94vzOLH/6JSj+RFNj06vPT6UDky3NZs3MEVD77kWpZ5z3tGc/HFX+K+++7lmWc2BHKXdskn++TapZO2vV20tu11XKZuapKrbGrlXurp6koZbtkMGXLJJQs49NDD+OpXL+OiSYcUvf99yZdx4N+1y+TR67KhbmriRTa18lzr6epKGR5O106y+TGuqanh6qsXcd55n2DHbx5m4Smzi3qdsCySfS+3L4zb7FTqphYtpXyRXV0pw8Ht2sm+1YMcKwSpP8annnoaixbdwJln/id1dfGifj5LvoyTzK1WetlJ71U3tYgLoitbMakrZTi4XTtJJBJZDRlSUVHBBRfMoa6u+DcgllXLvtizU0nxBNGVrdjKvStlGM7c3Mo1O9s7ueHMo7KewOepp57knnvu5pZbVvSNkV9oZZXsQV+YUqULmNGTmry/Mt24DrkRlq6n6a6d5DJkyPbt2/j5z3/KmWeexYknnpzvMB2VVRlHSldYJhyR7DiV3a548CXXsltYup7ma7C000//DxoaGlm+/Lt5jC49JXspCWGZcESy45i8O9yTd1jO3PJ17WTIkCFccMEcnnzycTZu/HNhgk3hqYxjjNkH+BFwELAT+Iy19vWU56wCDgA6gN3W2hk+YxVxFZYJRyQ7uSbvMHU9zVcp+NOfPo+bbrqe22//HosXL8lDZOl5rdl/HnjRWnuVMeZs4GvAl1Ke817gfdbaXLq2i3im6zHRkc0wJsnHshS7nu6//wHcccfdjB8/oSjb81rGOR54tOf/a4B+VxiMMQ1AHFhtjHnaGHOa9xBFpNRkM4xJcv2+VLuennjiyQNGxCyUit6Jcd0YYy4ALk15eAdwsbV2ozGmEnjVWntI0msOBf4TWALsD2wAJltr/+m2na6urkRnp/eTgFisks7OrsxPDCnFH4xVL2xl8bqX2dbaxvB4NQtOHsuscSOCDsuTII9Bv/1YV82CaZn3Y+9rtra2OS4fUVfNry47oQDRFkZQ+3/w4NjzwDGZnpexjGOtXQmsTH7MGPMLoLbnz1qgJeVl24Hl1tq9wD+NMX8ADOCa7Ds7E7S07MoUjqt4vMbX64Om+IsvtTvf1pY2rnjgJd7d1R7JFmNQx2DAfmzNbj9ObYoz9cJjXYcx2dbaFqnPVFD7v76+NvOT8F7G2QCc2vP/GcD6lOUnA/cCGGOGAUcCGz1uS6QgwtKdL+r87kd1my0OrxdobwXuNMY8DewBzgUwxnwb+Lm1do0xZrox5lmgC1horX0jLxGL5ElYuvP5FfSdpX73YylefA0jT8neWrsL+LjD45cn/f/LPuISKbgwdefzKgx3lvrdj71xLt+whW2tbeo2WyBlN1yCSK9SaFF6GRMo32cC+diPM5obOGfSqEjV6KNGyV7KVuqNWMPrqpk7uSnQFmWuiTjXOZZTW+C5ngmki083tIWbkr2UteQbsYLuUeSlJJNNCSV1vana9nZx5SOWZes3p03SmeJTcg83jY0jEhJeerVkMyaQ03qdZJoDQL2Xok0te5GQ8NKrJZsSSi69i9LV+6PWeynoXkpho2QvEhJee7X0llDcylBu63UThcHIMglDL6WwURlHJCQKNUxzunFonLgl7ygNI62S00Bq2YuERKF6tbitF8ipy2SUet1EreRUDEr2IiFSqF4t6dabS/KOSq+bKJWcikXJXqSMRSV556oUbpjLNyV7ESk5USo5FYuSvYiUpFI9a/FKvXFERMqAWvYiUlC6uSkclOxFpGDCfnNTOf0QqYwjIgUT5puben+Itu9sJ0HmsYGiTi17ESkYvzc35avl7bQeL3MBRJmSvYgUjJ+bm/JVAnJbj9tIoKV6l63KOCLiyZqNO5i54jmOXfwUM1c851j+8DOeTr5KQG7rqaxwfn6p3mWrlr2I5CzbVrefm5vyNb6N2/O7Et0/PMW8yzbIC8JK9iJ5UE69OiC3uW+93tyUr/Ft3NbTmFS7L8ZxC7pnkq9kb4w5A/i4tfZch2WfAy4C9gLfstY+5GdbImEV9Jc4CMUYVTJf49ukW08x77IN+oKw55q9MWYJsMhpHcaYRuASYDIwHVhkjCnNQpiUvTB3LywUt9Z1PuvdM5obWHjKGBprq6iguyW+8JQxOSfGfK3Hr6CHXfbTsv818ADdrfdUxwIbrLXtQLsxZhNwFPBbH9sTCaWgv8RB8NrqzrXcla+Wd/J6emP4xiO2qCW3oIddzpjsjTEXAJemPHyetfanxpgTXF62L9Ca9PdOoC7ddmKxCuLxmkzhpHl9pa/XB03xB8/rexheV83W1jbHx4u5T4p5DM6ZNIqhNVUsXvcy21rbGF5XzYJpY5k1boTra1a9sJVr171CW0dSuWvdKwytqWLWuBFFiT9TDH5kiv8r0w1XPPhS37YBqgdX8pXppijHLWOyt9auBFbmuN63gdqkv2uBlnQv6OxMOM6fmS23+TejQvEHz+t7mDu5ybGVO3dyU1H3SbGPwdSmOFMvPLbfY+m2f/1a2y/RAbR1dHH9WsvUpnhf/IW82J0pBj8y7f+pTXEWThsz4L1NbYr7Om719bWZn0TheuP8BrjGGFMNVAHNwEsF2pZIoEp97PR8Jd9syl2FvtgddMktyGGX85rsjTHzgU3W2lXGmKXAerov4F5hrR14nitSIkp17PR8Jt9sataF7rGSS9281LrT+kr21tongSeT/r4x6f+3Abf5Wb+IFE+hx4/J5qJuoVve2V5YLsXutLqpSiSCnBLzOZNG+VpfocePyabcVegeK9mW3ILuE18ISvYiEeOWmIfWVHm+yJhu/JiuxMDne02+mcpdxZgoPJuSW9C1/ULQQGgiEeOWmBeve9nzOjONH5OskOPHhOUGqGLcNFZsatmLRIxbYt7m0Nc/W2EZPwaya3kX+uJpMc4wik3JXiRi3BLz8Lpqz+sMy/gx2SjGxdNS7E6rZC8SMW6JecG0sZ7XGaXk5lbGuvIRy7L1m/MWd9h+5PxSsheJGLfEPGvcCF93YkYluaW7SFoKXSQLRcleJIKikpgLwa2M1SvqXSQLRb1xRCRSnKY6TBXlLpIyXeXZAAAHDklEQVSFopa9iERKchnLrYUf5S6ShaKWvYhEzozmBlbPmcjVpxrHVv72ne2uk6CXK7XsRSSy0rXydbG2P7XsRSTSelv5jQ6lm1KfHjIXSvYiUhJKcTybfFKyF5GSUIrj2eSTkr2IlASnLplRH88mn3SBVkRKQpSGfAiCkr2IlIxyvrM4E5VxRETKgJK9iEgZ8FXGMcacAXzcWnuuw7KlwGRgZ89Ds621rX62JyIi3nhO9saYJcB04P+5PGU8MN1a+4bXbYiISH74KeP8Gvi80wJjTCUwBlhhjNlgjDnfx3ZERMSnjC17Y8wFwKUpD59nrf2pMeYEl5cNBW4GbgRiwBPGmN9Za//otp1YrIJ4vCa7qB1fX+nr9UFT/MGL+ntQ/MEKe/wZk721diWwMsf17gKWWGt3ARhjHgfGAa7JvrMz4WuWnXi8xtfrg6b4gxf196D4gxVU/PX1tVk9r1D97McC9xhjxtNdKjoeuLNA2xKRkFmzcYdubgqZvCZ7Y8x8YJO1dpUx5m7gWaAD+KG19k/53JaIhNOajTv6TYiuoYbDoSKRSAQdAwAdHZ0JlXEUf5Ci/h7yGb+flvnMFc85ziDVWFvF6jkTXV+n/e9NfX3t88AxmZ6n4RJEpB+/LXMNNRxOuoNWRPpZtn5zX6LvlcskIBpqOJyU7EWkH78tcw01HE4q44hIPw21VY4192xb5hpqOJyU7EWkn3lTRvar2UPuLXMNNRw+SvYi0o9a5qVJyV5EBlDLvPToAq2ISBlQshcRKQNK9iIiZUDJXkSkDCjZi4iUASV7EZEyoGQvIlIGlOxFRMqAkr2ISBlQshcRKQMaLkGkhGjuV3GjZC9SIla9sFVzv4orlXFESsTidS/7mmFKSpunlr0xpg74EbAvMASYb619JuU5nwMuAvYC37LWPuQzVhFJY1trm+PjmvtVwHvLfj7wS2vth4HPArckLzTGNAKXAJOB6cAiY4wmoBQpoOF11Y6Pa+5XAe/J/ibgez3/HwSkNimOBTZYa9utta3AJuAoj9sSkSwsmDZWc7+Kq4xlHGPMBcClKQ+fZ639bU8L/kfAl1OW7wu0Jv29E6jzE6iIpDdr3Aje3dWu3jjiKGOyt9auBFamPm6MeT9wD3CZtfZXKYvfBmqT/q4FWtJtJxarIB6vyRiw++srfb0+aIo/eFF/D7FYJedMGsU5k0YFHYonpbD/wxy/1wu0RwA/A86y1r7g8JTfANcYY6qBKqAZeCndOjs7E7S07PISDgDxeI2v1wdN8Qcv6u9B8QcrqPjr62szPwnv/ewXAdXAEmMMQKu1drYxZj6wyVq7yhizFFhP93WBK6y1zl0FRESk4Dwle2vtbJfHb0z6/23AbR7jEhGRPNJNVSIiZUDJXkSkDCjZi4iUgYpEIhF0DL1eB7YEHYSISMQ0AfWZnhSmZC8iIgWiMo6ISBlQshcRKQNK9iIiZUDJXkSkDCjZi4iUgUjPQWuMqQSWAeOAduBCa+2mYKPKnTFmInCdtfaEoGPJlTFmMPB9YCTdg959y1q7KtCgcmCMidE9rIcBOukevvsvwUaVO2PMQcDzwDRr7f8GHU+ujDF/4N/Dov/NWntekPHkyhjzX8AsumfuW9YzWnCoRL1lfzpQba2dBHwVWBxwPDkzxlwO3E73wHJR9EngTWvtFGAG8N2A48nVTABr7WTgSuDG9E8Pn54f3O8Bu4OOxYue0XGx1p7Q8y9qif4E4EN0z8z3YeDQQANyEfVkfzzwKIC19lngmGDD8eQvwMeCDsKHnwFfT/p7b1CBeGGtfQCY0/NnE7AjwHC8ugFYDmwNOhCPxgE1xpjHjDGPG2OOCzqgHE0HXgTuB1YDoZxvO+rJPnVGrE5jTKRKU9ba+4COoOPwylr7jrV2pzGmFvg58LWgY8qVtXavMeZO4Ga630NkGGM+C7xurV0bdCw+7KL7B2s6MBe4O2Lf4wPpbmh+nH/HXxFsSANFPdmnzohVaa2NVMuyFBhjDgWeAO6y1v446Hi8sNZ+BhgL3GaMGRp0PDk4H5hmjHkS+ADww57pQqPkZeBH1tqEtfZl4E1geMAx5eJNYK21do+11tI9J3fG4QuKLUq/nk420F1zvbfn1O/FgOMpO8aYBuAx4GJr7S+DjidXxphPAYdYaxfR3cLsovtCbSRYa6f2/r8n4c+11m4PLiJPzgfeD8wzxoyg+4x9W7Ah5eRp4EvGmBvp/pEaSvcPQKhEPdnfT3er5tdABRCpCzslYiGwH/B1Y0xv7X6GtTYqFwt/AdxhjHkKGAx8WbOqFd1K4AfGmKeBBHB+lM7QrbUPGWOm0j0dayXwBWtt6BoMGghNRKQMRL1mLyIiWVCyFxEpA0r2IiJlQMleRKQMKNmLiJQBJXsRkTKgZC8iUgaU7EVEysD/B1TKIKN3svCaAAAAAElFTkSuQmCC&#10;\">"
   ]
  },
  {
   "cell_type": "markdown",
   "metadata": {},
   "source": [
    "Why is that? Let's dive a little deeper.\n",
    "\n",
    "#### B.) Print the coefficients of your model.\n",
    "* What do you notice about the coefficient $\\beta_2$?"
   ]
  },
  {
   "cell_type": "code",
   "execution_count": null,
   "metadata": {
    "scrolled": true
   },
   "outputs": [],
   "source": []
  },
  {
   "cell_type": "markdown",
   "metadata": {},
   "source": [
    "<strong style=\"color:RoyalBlue\">Expected output:</strong>\n",
    "<pre>\n",
    "[-3.23600222e-48  0.00000000e+00 -5.24982874e-25]\n",
    "</pre>\n",
    "\n",
    "As you can see, the coefficient $\\beta_2$ was suppressed all the way down to zero. Something suspicious is going on. Let's investigate."
   ]
  },
  {
   "cell_type": "markdown",
   "metadata": {},
   "source": [
    "#### C.) Display the first 5 and last 5 rows of your dataframe.\n",
    "* What do you notice about the $x^{30}$ input feature? What kind of effect do you think this has on the actual model?"
   ]
  },
  {
   "cell_type": "code",
   "execution_count": null,
   "metadata": {},
   "outputs": [],
   "source": []
  },
  {
   "cell_type": "code",
   "execution_count": null,
   "metadata": {},
   "outputs": [],
   "source": []
  },
  {
   "cell_type": "markdown",
   "metadata": {},
   "source": [
    "As you can see, the $x^{30}$ input feature is on a completely different (and blown up) **scale** than everything else. That makes sense. After all, when you take the 30th power of numbers, you'll get some extreeeeemely small numbers and some extreeeeemely large numbers.\n",
    "\n",
    "As a result, when the input features are on such drastically different scales, **the feature on the larger scale ends up dominating the one on the smaller scale.** That's why you see $\\beta_2$, the coefficient for $x^3$ getting pushed to zero... it's because $x^{30}$ is on such a larger scale.\n",
    "\n",
    "Unfortunately, $x^{30}$ being on such a large scale is NOT a good thing for our model. Remember, we are trying to model the relationship between $x$ and $y$. So the input feature $x^{30}$ being on such a large scale actually just ends up being noise. Its coefficient $\\beta_3$ ends up virtually meaningless because $x^{30}$ swings so dramatically in relation to $y$.\n",
    "\n",
    "#### D.) Alright, let's see if we can salvage this model though. Overwrite the input features $x^3$ and $x^{30}$ with versions that are *normalized* (i.e. scaled to be between 0 and 1).\n",
    "* The formula for normalizing data is:\n",
    "\n",
    "> $x_{new} = \\dfrac{x - x_{min}}{x_{max} - x_{min}}$\n",
    "\n",
    "* In other words, subtract the minimum feature value from each value, then divide each by the range.\n",
    "* Tip: What happens if $x_{min} = 0$? Does $x_{min} = 0$ for our input features $x^3$ and $x^10$?"
   ]
  },
  {
   "cell_type": "code",
   "execution_count": null,
   "metadata": {},
   "outputs": [],
   "source": []
  },
  {
   "cell_type": "markdown",
   "metadata": {},
   "source": [
    "*If $x_{min} = 0$, the formula for normalizing data becomes*\n",
    "\n",
    "> $x_{new} = \\dfrac{x - 0}{x_{max} - 0} = \\dfrac{x}{x_{max}}$\n",
    "\n",
    "*And both $min(x^3) = 0$ and $min(x^{30}) = 0$.*"
   ]
  },
  {
   "cell_type": "markdown",
   "metadata": {},
   "source": [
    "#### E.) As a quick sanity check, call the <code>.describe()</code> function of your dataframe. You should see $x^3$ and $x^{30}$ now scaled to be between 0 and 1."
   ]
  },
  {
   "cell_type": "code",
   "execution_count": null,
   "metadata": {},
   "outputs": [],
   "source": []
  },
  {
   "cell_type": "markdown",
   "metadata": {},
   "source": [
    "<strong style=\"color:RoyalBlue\">Expected output:</strong>\n",
    "<table border=\"1\" class=\"dataframe\">\n",
    "  <thead>\n",
    "    <tr style=\"text-align: right;\">\n",
    "      <th></th>\n",
    "      <th>x</th>\n",
    "      <th>y</th>\n",
    "      <th>x3</th>\n",
    "      <th>x30</th>\n",
    "    </tr>\n",
    "  </thead>\n",
    "  <tbody>\n",
    "    <tr>\n",
    "      <th>count</th>\n",
    "      <td>100.000000</td>\n",
    "      <td>100.000000</td>\n",
    "      <td>100.000000</td>\n",
    "      <td>1.000000e+02</td>\n",
    "    </tr>\n",
    "    <tr>\n",
    "      <th>mean</th>\n",
    "      <td>3.141593</td>\n",
    "      <td>-0.017255</td>\n",
    "      <td>0.252525</td>\n",
    "      <td>3.718766e-02</td>\n",
    "    </tr>\n",
    "    <tr>\n",
    "      <th>std</th>\n",
    "      <td>1.841258</td>\n",
    "      <td>0.793495</td>\n",
    "      <td>0.289042</td>\n",
    "      <td>1.433676e-01</td>\n",
    "    </tr>\n",
    "    <tr>\n",
    "      <th>min</th>\n",
    "      <td>0.000000</td>\n",
    "      <td>-1.940613</td>\n",
    "      <td>0.000000</td>\n",
    "      <td>0.000000e+00</td>\n",
    "    </tr>\n",
    "    <tr>\n",
    "      <th>25%</th>\n",
    "      <td>1.570796</td>\n",
    "      <td>-0.638436</td>\n",
    "      <td>0.015639</td>\n",
    "      <td>9.655822e-19</td>\n",
    "    </tr>\n",
    "    <tr>\n",
    "      <th>50%</th>\n",
    "      <td>3.141593</td>\n",
    "      <td>-0.021025</td>\n",
    "      <td>0.125038</td>\n",
    "      <td>9.729240e-10</td>\n",
    "    </tr>\n",
    "    <tr>\n",
    "      <th>75%</th>\n",
    "      <td>4.712389</td>\n",
    "      <td>0.535641</td>\n",
    "      <td>0.421918</td>\n",
    "      <td>1.814041e-04</td>\n",
    "    </tr>\n",
    "    <tr>\n",
    "      <th>max</th>\n",
    "      <td>6.283185</td>\n",
    "      <td>1.511720</td>\n",
    "      <td>1.000000</td>\n",
    "      <td>1.000000e+00</td>\n",
    "    </tr>\n",
    "  </tbody>\n",
    "</table>"
   ]
  },
  {
   "cell_type": "markdown",
   "metadata": {},
   "source": [
    "#### F.) Finally, fit and plot the model with input features of $x$ and your newly normalized $x^3$ and $x^{30}$.\n",
    "\n",
    "* In other words, your model should be:\n",
    "\n",
    "> $\\hat{y} = \\beta_0 + \\beta_1 x + \\beta_2 x^3_{norm} + \\beta_3 x^{30}_{norm}$\n",
    "\n",
    "* What do you notice?"
   ]
  },
  {
   "cell_type": "code",
   "execution_count": null,
   "metadata": {},
   "outputs": [],
   "source": []
  },
  {
   "cell_type": "markdown",
   "metadata": {},
   "source": [
    "<strong style=\"color:RoyalBlue\">Expected output:</strong>\n",
    "<img src=\"data:image/png;base64,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&#10;\">"
   ]
  },
  {
   "cell_type": "markdown",
   "metadata": {},
   "source": [
    "## <span style=\"color:RoyalBlue\">Exercise 3.4 - Noisy Tangent vs. Polynomial Regressions</span>\n",
    "\n",
    "Great job so far. Finally, just as in the previous module's workbook, let's revisit the noisy tangent simulated dataset. Let's replicate the polynomial regression models from this module on our noisy tangent dataset.\n",
    "\n",
    "#### A.) First, read in the <code>'simulated_tangent_data.csv'</code> you saved from the previous module into a <code>tangent_df</code> dataframe. Then display the first 5 rows for a quick sanity check."
   ]
  },
  {
   "cell_type": "code",
   "execution_count": null,
   "metadata": {},
   "outputs": [],
   "source": []
  },
  {
   "cell_type": "markdown",
   "metadata": {},
   "source": [
    "<strong style=\"color:RoyalBlue\">Expected output:</strong>\n",
    "<table border=\"1\" class=\"dataframe\">\n",
    "  <thead>\n",
    "    <tr style=\"text-align: right;\">\n",
    "      <th></th>\n",
    "      <th>x</th>\n",
    "      <th>y</th>\n",
    "    </tr>\n",
    "  </thead>\n",
    "  <tbody>\n",
    "    <tr>\n",
    "      <th>0</th>\n",
    "      <td>0.000000</td>\n",
    "      <td>0.086260</td>\n",
    "    </tr>\n",
    "    <tr>\n",
    "      <th>1</th>\n",
    "      <td>0.063467</td>\n",
    "      <td>0.881293</td>\n",
    "    </tr>\n",
    "    <tr>\n",
    "      <th>2</th>\n",
    "      <td>0.126933</td>\n",
    "      <td>0.146287</td>\n",
    "    </tr>\n",
    "    <tr>\n",
    "      <th>3</th>\n",
    "      <td>0.190400</td>\n",
    "      <td>-0.249341</td>\n",
    "    </tr>\n",
    "    <tr>\n",
    "      <th>4</th>\n",
    "      <td>0.253866</td>\n",
    "      <td>-0.312132</td>\n",
    "    </tr>\n",
    "  </tbody>\n",
    "</table>"
   ]
  },
  {
   "cell_type": "markdown",
   "metadata": {},
   "source": [
    "#### B.) Next, just as a refresher, fit and plot a simple linear regression on the noisy tangent dataset.\n",
    "* Tip: You already have the helper function(s) needed for this.\n",
    "* Set the y-axis limits to be from -5 to 5. (Tip: You can do this *after* calling your helper function. You don't need to modify your helper function.)"
   ]
  },
  {
   "cell_type": "code",
   "execution_count": null,
   "metadata": {},
   "outputs": [],
   "source": []
  },
  {
   "cell_type": "markdown",
   "metadata": {},
   "source": [
    "<strong style=\"color:RoyalBlue\">Expected output:</strong>\n",
    "\n",
    "<img src=\"data:image/png;base64,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&#10;\" class=\"unconfined\">"
   ]
  },
  {
   "cell_type": "markdown",
   "metadata": {},
   "source": [
    "#### C.) Fit and plot a standard 2nd-order polynomial regression on the noisy tangent dataset.\n",
    "* Tip: You already have the helper function(s) needed for this.\n",
    "\n",
    "> $\\hat{y} = \\beta_0 + \\beta_1 x + \\beta_2 x^2$\n"
   ]
  },
  {
   "cell_type": "code",
   "execution_count": null,
   "metadata": {},
   "outputs": [],
   "source": []
  },
  {
   "cell_type": "markdown",
   "metadata": {},
   "source": [
    "#### D.) Fit and plot a standard 3rd-order polynomial regression on the noisy tangent dataset.\n",
    "\n",
    "> $\\hat{y} = \\beta_0 + \\beta_1 x + \\beta_2 x^2 + \\beta_3 x^3$\n"
   ]
  },
  {
   "cell_type": "code",
   "execution_count": null,
   "metadata": {},
   "outputs": [],
   "source": []
  },
  {
   "cell_type": "markdown",
   "metadata": {},
   "source": [
    "#### E.) Fit and plot a 5th-order polynomial regression on the noisy tangent dataset.\n",
    "\n",
    "> $\\hat{y} = \\beta_0 + \\beta_1 x + \\beta_2 x^2 + \\beta_3 x^3 + \\beta_4 x^4 + \\beta_5 x^5$"
   ]
  },
  {
   "cell_type": "code",
   "execution_count": null,
   "metadata": {},
   "outputs": [],
   "source": []
  },
  {
   "cell_type": "markdown",
   "metadata": {},
   "source": [
    "#### F.) Fit and plot a 10th-order polynomial regression on the noisy tangent dataset.\n",
    "\n",
    "> $\\hat{y} = \\beta_0 + \\beta_1 x + \\beta_2 x^2 + \\dots + \\beta_{9} x^{9} + \\beta_{10} x^{10}$"
   ]
  },
  {
   "cell_type": "code",
   "execution_count": null,
   "metadata": {},
   "outputs": [],
   "source": []
  },
  {
   "cell_type": "markdown",
   "metadata": {},
   "source": [
    "<strong style=\"color:RoyalBlue\">Expected output:</strong>\n",
    "<img src=\"data:image/png;base64,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&#10;\">"
   ]
  },
  {
   "cell_type": "markdown",
   "metadata": {},
   "source": [
    "#### G.) What do you notice about the models as you increase the order of the polynomial regression? What does this have to do with model complexity/flexibility?"
   ]
  }
 ],
 "metadata": {
  "anaconda-cloud": {},
  "kernelspec": {
   "display_name": "Python 3",
   "language": "python",
   "name": "python3"
  },
  "language_info": {
   "codemirror_mode": {
    "name": "ipython",
    "version": 3
   },
   "file_extension": ".py",
   "mimetype": "text/x-python",
   "name": "python",
   "nbconvert_exporter": "python",
   "pygments_lexer": "ipython3",
   "version": "3.7.0"
  }
 },
 "nbformat": 4,
 "nbformat_minor": 1
}
